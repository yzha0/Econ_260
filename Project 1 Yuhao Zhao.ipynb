{
 "cells": [
  {
   "cell_type": "code",
   "execution_count": 2,
   "id": "0406ccdf",
   "metadata": {},
   "outputs": [],
   "source": [
    "# import all functions from python labrary: sympy\n",
    "from sympy import *\n",
    "from math import *\n",
    "# import python library: matplotlib (for nice plots)\n",
    "import matplotlib\n",
    "# set sympy output to print pretty math expressions\n",
    "init_printing()"
   ]
  },
  {
   "cell_type": "markdown",
   "id": "61d38780",
   "metadata": {},
   "source": [
    "Yuhao Zhao\n",
    "\n",
    "Econ 260 Intermediate Microeconomics\n",
    "\n",
    "Prof.He\n",
    "\n",
    "Individual Project 1"
   ]
  },
  {
   "cell_type": "markdown",
   "id": "04755801",
   "metadata": {},
   "source": [
    "# <div align=\"center\"> Students' Constrained Choices: The Time Allocation in College life"
   ]
  },
  {
   "cell_type": "markdown",
   "id": "c30cc1d1",
   "metadata": {},
   "source": [
    "## Introduction"
   ]
  },
  {
   "cell_type": "markdown",
   "id": "6eddd12d",
   "metadata": {},
   "source": [
    "How do college students spend their everyday life? Some people may say: sleep, success, social life. Although it's a just rough description on students' time spendings in college, it captures some fundamental components in collge life. Every student faces such problem--what's optimal choices in allocating the limited time? In other words, as time consumers, what is the optimal allocation of time in maximizing enjoyment(utility)?  Usually, when we think about utility, the first thing comes into our mind is the consumers who derive utility from consuming various bundles of goods. In this project, we are going to consider students as utility maximizers who take time as inputs and produce utility. Meanwhile,they face a same source of time constraint. We will explore this topic through several sections: assumptions, model, analysis, conclusion/discussion and finally the possible improvement in further study."
   ]
  },
  {
   "cell_type": "markdown",
   "id": "2ad6354c",
   "metadata": {},
   "source": [
    "## Assumptions"
   ]
  },
  {
   "cell_type": "markdown",
   "id": "319ede3c",
   "metadata": {},
   "source": [
    "**Our first assumption is: the utility of a student derived from four major fields is composed of: leisure, social life, academics, and extracurricular activity and the law of diminishing utility is still true in this analysis.**\n",
    "\n",
    "According to the classic consumption theory, in economics, utility measures the the usefulness or enjoyment a consumer can get from a service or good. However, in this project, we assume students perform as the consumers in the market transactions with the resources constraints who want to find the optimal choices in maximizing their well-being or enjoyment in the college life setting. As the leisure, social life, academic life and extracurricular activities increase, the marginal utility decreases. There might be more factors counted in the students' welfare, but we will leave it out for this project.\n",
    "\n",
    "**Our second assumption is: the resource constraint in this optimization model for student is mainly illustrated by the constraint of disposable time in normal days.**\n",
    "\n",
    "Compared to the classic consumers' model, we identify students as time-consumers. Unlike the budget constraint in terms of income, we assume that students have limited disposable time to utilize excluding the necessary time spending on basic needs like dining and resting.In our assumptions, the students can distribute their time within lesure time, social lives, academics(studying),and the extracurricular activities such as atheletics and clubs.Additionally,for this model, the time constraints only accounts for a normal school day in college which doesn't include the special days like semester recess or holidays.\n"
   ]
  },
  {
   "cell_type": "markdown",
   "id": "f438b15a",
   "metadata": {},
   "source": [
    "## Model"
   ]
  },
  {
   "cell_type": "markdown",
   "id": "4b8062e1",
   "metadata": {},
   "source": [
    "### 1. Conceptual Framework"
   ]
  },
  {
   "cell_type": "markdown",
   "id": "aa4d14bb",
   "metadata": {},
   "source": [
    "In this section, we will define the variables we used in th model that built on the assumptions from the conceptual framework above to highlight the students' utility derived from four parts.\n",
    "\n",
    "The first source of a student's utility is leisure, denoted $\\alpha l$ in our model. $l$ is defined as the free time for ease and relaxation excluding other activities. And $\\alpha$ is defined as the share parameter which means how students value their utility from leisure time. In college setting, leisure is more likely to be your personal time to spend on.Leisure is simply measured in time unit which is also the part of our resource constraint.\n",
    "\n",
    "The second source of a student's utility is social life, denoted $\\beta s$ in our model. $s$ is defined as the social activities which includes hanging out with close friends, building connections with new friends and other activities related to interpersonal communication. And $\\beta$ is the share parameter which measures the students' valuation on social utility. And we assume the utility in social life consists of the number of the connections/friendship, time spent on social lives and the efficiency of it. We assume the student originally has $F$ friends. By measuring the efficiency of social time, we introduce the effective coefficient $\\theta$ which measure the quality of the social time.\n",
    "\\begin{align*}\n",
    "\\beta s&=f(t_s)=F+t_s\\theta\n",
    "\\end{align*}\n",
    "\n",
    "We assume there are three levels of effciencies in social life. When $\\frac{\\partial s}{\\partial t_s}=\\theta>1$, the students are having a high level of efficiency in social activities in which as social time increases, the utility derived from social activities increases.When $0<\\theta<1$, the students enter the less efficient level in social activities but the utility keep increasing as time increases.When $\\theta<0,$ the students will be at the inefficient level of social lives which indicates that the students are loseing utlity as the time goes by.\n",
    "\n",
    "The third source is academic life, denoted $\\gamma a$ in the model.$a$ is defined as the one of the largest portions of college life when students pursue their academic goals, learning new knowledge, studying for the tests in order to get a better grade. And $\\gamma$ is defined as the parameter which shows how students value the utility from academic life. Therefore, we assume that the utility from academic life consists of two parts: the learning of knowledge and achievements/honors in classes and exams. For the learning of knowledge, we introduce the absorption rate $A$ and the time spent on learning $t_a$, for which production equals to the product of $P\\times t_a$. And the achievement is denoted by $h$.\n",
    "\\begin{align}\n",
    "\\gamma a&=f(t_a)=At_a+h\n",
    "\\end{align}\n",
    "\n",
    "We assume there are two levels of absoption rate $A$ as students are learning. The possible range we set is $0<A.$ When students are highly concentrated, the absorption rate $A>1$. When students are not concentrated, the effeiciency of absorption will decreases which corresponds to the absorption rate $A<1$.\n",
    "\n",
    "The fourth source is extracurricular time, denoted as $\\delta e$. Similar to the other variables, $\\delta$ measures how students value the utility derived from extracurricular time and $e$ is defined as the total time spent on extracurricular activities like atheletics, student clubs, and other activities.\n",
    "\n",
    "\n"
   ]
  },
  {
   "cell_type": "markdown",
   "id": "dfb29c33",
   "metadata": {},
   "source": [
    "### 2.Utility model"
   ]
  },
  {
   "cell_type": "markdown",
   "id": "12d7f297",
   "metadata": {},
   "source": [
    "It's normally for economists to use the Cobb-Douglas(CD) utility function as the form of the utility function due to its convenience. However, the Cobb-Douglass utlity function is actually the special case when the consumption of the choice variables are independent on each other. In our case, we don't have the assumption that the college students' time allocation in each area is independent from each other. Therefore, we decide to use a more general form of utility function: the Constant Elasticity of Substitution(CES) utility function in our model.\n",
    "\n",
    "\\begin{align}\n",
    "U(l,s,a,e)&=({(\\alpha l)}^{\\rho}+{(\\beta s)}^{\\rho}+{(\\gamma a)}^{\\rho}+(\\delta e)^{\\rho})^{\\frac{1}{\\rho}}\\\\\n",
    "\\Downarrow\\\\\n",
    "U(l,t_s,t_a,e)&=((\\alpha l)^{\\rho}+(\\beta(F+t_s\\theta))^{\\rho}+(\\gamma (At_a+h))^{\\rho}+(\\delta e)^{\\rho})^{\\frac{1}{\\rho}}\\\\\n",
    "\\end{align}\n",
    "(Notice: $\\alpha, \\beta, \\gamma,\\delta,\\rho\\in (0,1)$.)\n"
   ]
  },
  {
   "cell_type": "markdown",
   "id": "56e1bb8c",
   "metadata": {},
   "source": [
    "### 3. Time constraint"
   ]
  },
  {
   "cell_type": "markdown",
   "id": "cb07b3e9",
   "metadata": {},
   "source": [
    "According to our conceptual assumptions, our resouce constraint will be:\n",
    "\\begin{align}\n",
    "l+t_s+t_a+e=t_d\n",
    "\\end{align}\n",
    "Where $t_d$ is defined as the total disposable time of a college student. Since there is always great variations in holidays and weekends when students may not wisely allocate their time as the normal school days. We assume that $t_d$ is the free time to allocate in weekdays during semester excluding the necessary time slot for sleeping and eating."
   ]
  },
  {
   "cell_type": "markdown",
   "id": "2077037f",
   "metadata": {},
   "source": [
    "## Analysis"
   ]
  },
  {
   "cell_type": "markdown",
   "id": "fb2a8117",
   "metadata": {},
   "source": [
    "### 1. Set-up the utility maximization problem"
   ]
  },
  {
   "cell_type": "markdown",
   "id": "6a48cc89",
   "metadata": {},
   "source": [
    "Therefore,our optimization problem is:\n",
    "\\begin{align}\n",
    " \\max_{l,t_s,t_a,e}\\quad U(l,t_s,t_a,e) &= ({(\\alpha l)}^{\\rho}+{(\\beta s)}^{\\rho}+{(\\gamma a)}^{\\rho}+(\\delta e)^{\\rho})^{\\frac{1}{\\rho}} \\\\\n",
    " \\Downarrow\\\\\n",
    " \\max_{l,t_s,t_a,e}\\quad U(l,t_s,t_a,e) &= ((\\alpha l)^{\\rho}+(\\beta(F+t_s\\theta))^{\\rho}+(\\gamma (At_a+h))^{\\rho}+(\\delta e)^{\\rho})^{\\frac{1}{\\rho}}(\\textbf{objective function})\\\\\n",
    "    \\text{s.t.}\\quad  t_s+l+t_a+t_e&= t_d (\\textbf{time constraint})\n",
    "\\end{align}\n",
    "And the  $l,t_s,t_a,e$ are the choice variables."
   ]
  },
  {
   "cell_type": "markdown",
   "id": "8f9deaab",
   "metadata": {},
   "source": [
    "### 2. Lagrangian "
   ]
  },
  {
   "cell_type": "markdown",
   "id": "a40f2c0d",
   "metadata": {},
   "source": [
    "\\begin{align}\n",
    "\\mathcal{L}=((\\alpha l)^{\\rho}+(\\beta(F+t_s\\theta))^{\\rho}+(\\gamma (At_a+h))^{\\rho}+(\\delta e)^{\\rho})^{\\frac{1}{\\rho}}+\\lambda(T-l-t_s-t_a-e)\\\\\n",
    "\\end{align}"
   ]
  },
  {
   "cell_type": "code",
   "execution_count": 20,
   "id": "65e59772",
   "metadata": {},
   "outputs": [],
   "source": [
    "alpha,beta,gamma,delta,lam,rho, l, ts, theta, ta, A,F, h, e, T=symbols(\"alpha, beta, gamma, delta, lambda, rho, l,ts, theta, ta, A,F, h, e, T\",nonzero=True, positive=True)"
   ]
  },
  {
   "cell_type": "code",
   "execution_count": 21,
   "id": "7528aa18",
   "metadata": {},
   "outputs": [
    {
     "data": {
      "image/png": "[encoded data removed]",
      "text/latex": [
       "$\\displaystyle \\lambda \\left(T - e - l - ta - ts\\right) + \\left(\\left(\\alpha l\\right)^{\\rho} + \\left(\\beta \\left(F + \\theta ts\\right)\\right)^{\\rho} + \\left(\\delta e\\right)^{\\rho} + \\left(\\gamma \\left(A ta + h\\right)\\right)^{\\rho}\\right)^{\\frac{1}{\\rho}}$"
      ],
      "text/plain": [
       "                             _________________________________________________\n",
       "                          ρ ╱      ρ                 ρ        ρ               \n",
       "λ⋅(T - e - l - ta - ts) + ╲╱  (α⋅l)  + (β⋅(F + θ⋅ts))  + (δ⋅e)  + (γ⋅(A⋅ta + h\n",
       "\n",
       "____\n",
       "  ρ \n",
       "))  "
      ]
     },
     "execution_count": 21,
     "metadata": {},
     "output_type": "execute_result"
    }
   ],
   "source": [
    "lagr=((alpha*l)**rho+(beta*(ts*theta+F))**rho+(gamma*(ta*A+h))**rho+(delta*e)**rho)**(1/rho)+lam*(T-l-ts-ta-e)\n",
    "lagr"
   ]
  },
  {
   "cell_type": "markdown",
   "id": "ea435192",
   "metadata": {},
   "source": [
    "### 3. First order conditions(FOCs)"
   ]
  },
  {
   "cell_type": "markdown",
   "id": "0fc3243e",
   "metadata": {},
   "source": [
    "$\\frac{\\partial \\mathcal{L}}{\\partial l}=$"
   ]
  },
  {
   "cell_type": "code",
   "execution_count": 13,
   "id": "dcd88911",
   "metadata": {},
   "outputs": [
    {
     "data": {
      "image/png": "[encoded data removed]",
      "text/latex": [
       "$\\displaystyle - \\lambda + \\frac{\\left(\\alpha l\\right)^{\\rho} \\left(\\left(\\alpha l\\right)^{\\rho} + \\left(\\beta \\left(F + \\theta ts\\right)\\right)^{\\rho} + \\left(\\delta e\\right)^{\\rho} + \\left(\\gamma \\left(A ta + h\\right)\\right)^{\\rho}\\right)^{\\frac{1}{\\rho}}}{l \\left(\\left(\\alpha l\\right)^{\\rho} + \\left(\\beta \\left(F + \\theta ts\\right)\\right)^{\\rho} + \\left(\\delta e\\right)^{\\rho} + \\left(\\gamma \\left(A ta + h\\right)\\right)^{\\rho}\\right)}$"
      ],
      "text/plain": [
       "               _____________________________________________________\n",
       "          ρ ρ ╱      ρ                 ρ        ρ                 ρ \n",
       "     (α⋅l) ⋅╲╱  (α⋅l)  + (β⋅(F + θ⋅ts))  + (δ⋅e)  + (γ⋅(A⋅ta + h))  \n",
       "-λ + ───────────────────────────────────────────────────────────────\n",
       "           ⎛     ρ                 ρ        ρ                 ρ⎞    \n",
       "         l⋅⎝(α⋅l)  + (β⋅(F + θ⋅ts))  + (δ⋅e)  + (γ⋅(A⋅ta + h)) ⎠    "
      ]
     },
     "execution_count": 13,
     "metadata": {},
     "output_type": "execute_result"
    }
   ],
   "source": [
    "diff(lagr, l)"
   ]
  },
  {
   "cell_type": "markdown",
   "id": "2bbd5e2b",
   "metadata": {},
   "source": [
    "$\\frac{\\partial \\mathcal{L}}{\\partial t_s}=$"
   ]
  },
  {
   "cell_type": "code",
   "execution_count": 11,
   "id": "88ef2694",
   "metadata": {},
   "outputs": [
    {
     "data": {
      "image/png": "[encoded data removed]",
      "text/latex": [
       "$\\displaystyle - \\lambda + \\frac{\\theta \\left(\\beta \\left(F + \\theta ts\\right)\\right)^{\\rho} \\left(\\left(\\alpha l\\right)^{\\rho} + \\left(\\beta \\left(F + \\theta ts\\right)\\right)^{\\rho} + \\left(\\delta e\\right)^{\\rho} + \\left(\\gamma \\left(A ta + h\\right)\\right)^{\\rho}\\right)^{\\frac{1}{\\rho}}}{\\left(F + \\theta ts\\right) \\left(\\left(\\alpha l\\right)^{\\rho} + \\left(\\beta \\left(F + \\theta ts\\right)\\right)^{\\rho} + \\left(\\delta e\\right)^{\\rho} + \\left(\\gamma \\left(A ta + h\\right)\\right)^{\\rho}\\right)}$"
      ],
      "text/plain": [
       "                          ____________________________________________________\n",
       "                     ρ ρ ╱      ρ                 ρ        ρ                 ρ\n",
       "     θ⋅(β⋅(F + θ⋅ts)) ⋅╲╱  (α⋅l)  + (β⋅(F + θ⋅ts))  + (δ⋅e)  + (γ⋅(A⋅ta + h)) \n",
       "-λ + ─────────────────────────────────────────────────────────────────────────\n",
       "                     ⎛     ρ                 ρ        ρ                 ρ⎞    \n",
       "          (F + θ⋅ts)⋅⎝(α⋅l)  + (β⋅(F + θ⋅ts))  + (δ⋅e)  + (γ⋅(A⋅ta + h)) ⎠    \n",
       "\n",
       "_\n",
       " \n",
       " \n",
       "─\n",
       " \n",
       " "
      ]
     },
     "execution_count": 11,
     "metadata": {},
     "output_type": "execute_result"
    }
   ],
   "source": [
    "diff(lagr, ts)"
   ]
  },
  {
   "cell_type": "markdown",
   "id": "90ee459c",
   "metadata": {},
   "source": [
    "$\\frac{\\partial \\mathcal{L}}{\\partial t_a}=$"
   ]
  },
  {
   "cell_type": "code",
   "execution_count": 14,
   "id": "2d83aecf",
   "metadata": {},
   "outputs": [
    {
     "data": {
      "image/png": "[encoded data removed]",
      "text/latex": [
       "$\\displaystyle \\frac{A \\left(\\gamma \\left(A ta + h\\right)\\right)^{\\rho} \\left(\\left(\\alpha l\\right)^{\\rho} + \\left(\\beta \\left(F + \\theta ts\\right)\\right)^{\\rho} + \\left(\\delta e\\right)^{\\rho} + \\left(\\gamma \\left(A ta + h\\right)\\right)^{\\rho}\\right)^{\\frac{1}{\\rho}}}{\\left(A ta + h\\right) \\left(\\left(\\alpha l\\right)^{\\rho} + \\left(\\beta \\left(F + \\theta ts\\right)\\right)^{\\rho} + \\left(\\delta e\\right)^{\\rho} + \\left(\\gamma \\left(A ta + h\\right)\\right)^{\\rho}\\right)} - \\lambda$"
      ],
      "text/plain": [
       "                     _____________________________________________________    \n",
       "                ρ ρ ╱      ρ                 ρ        ρ                 ρ     \n",
       "A⋅(γ⋅(A⋅ta + h)) ⋅╲╱  (α⋅l)  + (β⋅(F + θ⋅ts))  + (δ⋅e)  + (γ⋅(A⋅ta + h))      \n",
       "────────────────────────────────────────────────────────────────────────── - λ\n",
       "                ⎛     ρ                 ρ        ρ                 ρ⎞         \n",
       "     (A⋅ta + h)⋅⎝(α⋅l)  + (β⋅(F + θ⋅ts))  + (δ⋅e)  + (γ⋅(A⋅ta + h)) ⎠         "
      ]
     },
     "execution_count": 14,
     "metadata": {},
     "output_type": "execute_result"
    }
   ],
   "source": [
    "diff(lagr, ta)"
   ]
  },
  {
   "cell_type": "markdown",
   "id": "ab201b74",
   "metadata": {},
   "source": [
    "$\\frac{\\partial \\mathcal{L}}{\\partial e}=$"
   ]
  },
  {
   "cell_type": "code",
   "execution_count": 15,
   "id": "6e7dcda7",
   "metadata": {},
   "outputs": [
    {
     "data": {
      "image/png": "[encoded data removed]",
      "text/latex": [
       "$\\displaystyle - \\lambda + \\frac{\\left(\\delta e\\right)^{\\rho} \\left(\\left(\\alpha l\\right)^{\\rho} + \\left(\\beta \\left(F + \\theta ts\\right)\\right)^{\\rho} + \\left(\\delta e\\right)^{\\rho} + \\left(\\gamma \\left(A ta + h\\right)\\right)^{\\rho}\\right)^{\\frac{1}{\\rho}}}{e \\left(\\left(\\alpha l\\right)^{\\rho} + \\left(\\beta \\left(F + \\theta ts\\right)\\right)^{\\rho} + \\left(\\delta e\\right)^{\\rho} + \\left(\\gamma \\left(A ta + h\\right)\\right)^{\\rho}\\right)}$"
      ],
      "text/plain": [
       "               _____________________________________________________\n",
       "          ρ ρ ╱      ρ                 ρ        ρ                 ρ \n",
       "     (δ⋅e) ⋅╲╱  (α⋅l)  + (β⋅(F + θ⋅ts))  + (δ⋅e)  + (γ⋅(A⋅ta + h))  \n",
       "-λ + ───────────────────────────────────────────────────────────────\n",
       "           ⎛     ρ                 ρ        ρ                 ρ⎞    \n",
       "         e⋅⎝(α⋅l)  + (β⋅(F + θ⋅ts))  + (δ⋅e)  + (γ⋅(A⋅ta + h)) ⎠    "
      ]
     },
     "execution_count": 15,
     "metadata": {},
     "output_type": "execute_result"
    }
   ],
   "source": [
    "diff(lagr, e)"
   ]
  },
  {
   "cell_type": "markdown",
   "id": "e9573069",
   "metadata": {},
   "source": []
  },
  {
   "cell_type": "markdown",
   "id": "fd82432f",
   "metadata": {},
   "source": [
    "### 4. Solving the optimal time allocations"
   ]
  },
  {
   "cell_type": "markdown",
   "id": "5cbeaa7c",
   "metadata": {},
   "source": [
    "From the first order conditions, we can simplify them into:\n",
    "\\begin{align}\n",
    "\\frac{(\\alpha l)^{\\rho}}{l}\\frac{((\\alpha l)^{\\rho}+(\\beta(F+t_s\\theta))^{\\rho}+(\\gamma (At_a+h))^{\\rho}+(\\delta e)^{\\rho})^{\\frac{1}{\\rho}}}{(\\alpha l)^{\\rho}+(\\beta(F+t_s\\theta))^{\\rho}+(\\gamma (At_a+h))^{\\rho}+(\\delta e)^{\\rho}}&=\\frac{\\theta(\\beta(F+\\theta t_s))^{\\rho} ((\\alpha l)^{\\rho}+(\\beta(F+t_s\\theta))^{\\rho}+(\\gamma (At_a+h))^{\\rho}+(\\delta e)^{\\rho}))^{\\frac{1}{\\rho}}} {(F+\\theta t_s)(\\alpha l)^{\\rho}+(\\beta(F+t_s\\theta))^{\\rho}+(\\gamma (At_a+h))^{\\rho}+(\\delta e)^{\\rho}}\\\\&=\\frac{A (\\gamma(At_a+h)^{\\rho} ((\\alpha l)^{\\rho}+(\\beta(F+t_s\\theta))^{\\rho}+(\\gamma (At_a+h))^{\\rho}+(\\delta e)^{\\rho}))^{\\frac{1}{\\rho}}}{(At_a+h) (\\alpha l)^{\\rho}+(\\beta(F+t_s\\theta))^{\\rho}+(\\gamma (At_a+h))^{\\rho}+(\\delta e)^{\\rho}}\\\\&= \\frac{(\\delta e)^{\\rho} ((\\alpha l)^{\\rho}+(\\beta(F+t_s\\theta))^{\\rho}+(\\gamma (At_a+h))^{\\rho}+(\\delta e)^{\\rho}))^{\\frac{1}{\\rho}}}{e (\\alpha l)^{\\rho}+(\\beta(F+t_s\\theta))^{\\rho}+(\\gamma (At_a+h))^{\\rho}+(\\delta e)^{\\rho}}\\\\&=\\lambda\\\\\n",
    "\\Downarrow\\\\\n",
    "\\frac{(\\alpha l)^{\\rho}}{l}=A \\gamma^{\\rho}(At_a+h)^{\\rho-1}=\\theta \\beta^{\\rho}(F+\\theta t_s)^{\\rho-1}=\\delta^{\\rho}e^{\\rho-1}\n",
    "\\end{align} \n",
    "Then, we will write the $t_s, t_a, e$ in terms of $l$:\n",
    "\n",
    "\\begin{align}\n",
    "t_a&=\\frac{l((\\frac{\\alpha}{\\gamma})^{\\rho}A^{-1})^{\\frac{1}{\\rho-1}}\\theta-h\\theta}{A\\theta}\n",
    "\\end{align}"
   ]
  },
  {
   "cell_type": "markdown",
   "id": "34a9336b",
   "metadata": {},
   "source": [
    "\\begin{align}\n",
    "t_s&=\\frac{l((\\frac{\\alpha}{\\beta})^{\\rho}\\theta^{-1})^{\\frac{1}{\\rho-1}}A-FA}{A\\theta}\n",
    "\\end{align}"
   ]
  },
  {
   "cell_type": "markdown",
   "id": "8d6f158e",
   "metadata": {},
   "source": [
    "\\begin{align}\n",
    "e=\\frac{l((\\frac{\\alpha}{\\delta})^{\\frac{\\rho}{\\rho-1}}A\\theta}{A\\theta}\n",
    "\\end{align}"
   ]
  },
  {
   "cell_type": "markdown",
   "id": "a7f60cc8",
   "metadata": {},
   "source": [
    "Plug $t_s,t_a,e,l$ into the time constraint, we get $l^\\ast$:\n",
    "\\begin{align}\n",
    "l^\\ast&=\\frac{t_dA\\theta+h\\theta+FA}{A\\theta(1+(\\frac{\\alpha}{\\delta})^{\\frac{\\rho}{\\rho-1}}+(\\frac{\\alpha}{\\gamma})^{\\frac{\\rho}{\\rho-1}}A^{\\frac{-\\rho}{\\rho-1}}+(\\frac{\\alpha}{\\beta})^{\\frac{\\rho}{\\rho-1}}\\theta^{\\frac{-\\rho}{\\rho-1}})}\\\\\n",
    "&=\\frac{t_dA\\theta+h\\theta+FA}{A\\theta(1+(\\frac{\\alpha}{\\delta})^{\\frac{\\rho}{\\rho-1}}+(\\frac{\\alpha}{\\gamma A})^{\\frac{\\rho}{\\rho-1}}+(\\frac{\\alpha}{\\beta\\theta})^{\\frac{\\rho}{\\rho-1}})}\n",
    "\\end{align}"
   ]
  },
  {
   "cell_type": "markdown",
   "id": "158982bb",
   "metadata": {},
   "source": [
    "Follow the similar steps, we can get the other optimal bundles:\n",
    "\\begin{align}\n",
    "t_s^\\ast&=\\frac{t_d+hA^{-1}}{(\\theta \\beta)^{\\frac{\\rho}{\\rho-1}}(\\alpha^{\\frac{-\\rho}{\\rho-1}}+(A\\gamma)^{\\frac{-\\rho}{\\rho-1}}+\\delta^{\\frac{-\\rho}{\\rho-1}})}-\\frac{F}{\\theta}\\\\\n",
    "t_a^\\ast&=\\frac{t_d+F\\theta^{-1}}{(A\\gamma)^{\\frac{\\rho}{\\rho-1}}(\\alpha^{\\frac{-\\rho}{\\rho-1}}+(\\beta\\theta)^{\\frac{-\\rho}{\\rho-1}}+\\delta^{\\frac{-\\rho}{\\rho-1}})}-\\frac{h}{A}\\\\\n",
    "e^\\ast&=\\frac{t_dA\\theta+h\\theta+FA}{A\\theta(1+(\\frac{\\delta}{\\alpha})^{\\frac{\\rho}{\\rho-1}}+(\\frac{\\delta}{\\gamma A})^{\\frac{\\rho}{\\rho-1}}+(\\frac{\\delta}{\\beta\\theta})^{\\frac{\\rho}{\\rho-1}})}\n",
    "\\end{align}"
   ]
  },
  {
   "cell_type": "markdown",
   "id": "247b39a7",
   "metadata": {},
   "source": [
    "#### (Indirect utility function)\n",
    "we plot the optimal bundles back to the utility function:\n",
    "\\begin{align}\n",
    "U(l^\\ast,t_s^\\ast,t_a^\\ast,e^\\ast) &= ((\\alpha l^\\ast)^{\\rho}+(\\beta(F+t_s^\\ast\\theta))^{\\rho}+(\\gamma (At_a^\\ast+h))^{\\rho}+(\\delta e^\\ast)^{\\rho})^{\\frac{1}{\\rho}}\\\\\n",
    "U(l^\\ast,t_s^\\ast,t_a^\\ast,e^\\ast) &= ((\\alpha \\frac{t_dA\\theta+h\\theta+FA}{A\\theta(1+(\\frac{\\alpha}{\\delta})^{\\frac{\\rho}{\\rho-1}}+(\\frac{\\alpha}{\\gamma A})^{\\frac{\\rho}{\\rho-1}}+(\\frac{\\alpha}{\\beta\\theta})^{\\frac{\\rho}{\\rho-1}})})^{\\rho}+(\\beta(F+(\\frac{t_d+hA^{-1}}{(\\theta \\beta)^{\\frac{\\rho}{\\rho-1}}(\\alpha^{\\frac{-\\rho}{\\rho-1}}+(A\\gamma)^{\\frac{-\\rho}{\\rho-1}}+\\delta^{\\frac{-\\rho}{\\rho-1}})}-\\frac{F}{\\theta})\\theta))^{\\rho}+(\\gamma (A(\\frac{t_d+F\\theta^{-1}}{(A\\gamma)^{\\frac{\\rho}{\\rho-1}}(\\alpha^{\\frac{-\\rho}{\\rho-1}}+(\\beta\\theta)^{\\frac{-\\rho}{\\rho-1}}+\\delta^{\\frac{-\\rho}{\\rho-1}})}-\\frac{h}{A})+h))^{\\rho}+(\\delta (\\frac{t_dA\\theta+h\\theta+FA}{A\\theta(1+(\\frac{\\delta}{\\alpha})^{\\frac{\\rho}{\\rho-1}}+(\\frac{\\delta}{\\gamma A})^{\\frac{\\rho}{\\rho-1}}+(\\frac{\\delta}{\\beta\\theta})^{\\frac{\\rho}{\\rho-1}})}))^{\\rho})^{\\frac{1}{\\rho}}\\\\\n",
    "U(l^\\ast,t_s^\\ast,t_a^\\ast,e^\\ast)&= ((\\frac{\\alpha(t_dA\\theta+h\\theta+FA)}{A\\theta(1+(\\frac{\\alpha}{\\delta})^{\\frac{\\rho}{\\rho-1}}+(\\frac{\\alpha}{\\gamma A})^{\\frac{\\rho}{\\rho-1}}+(\\frac{\\alpha}{\\beta\\theta})^{\\frac{\\rho}{\\rho-1}})})^{\\rho}+((\\frac{((\\theta\\beta)^\\frac{1}{\\rho-1})t_d+hA^{-1}}{(\\alpha^{\\frac{-\\rho}{\\rho-1}}+(A\\gamma)^{\\frac{-\\rho}{\\rho-1}}+\\delta^{\\frac{-\\rho}{\\rho-1}})})^{\\rho}+(\\frac{((\\gamma A)^{\\frac{1}{\\rho-1}})t_d+F\\theta^{-1}}{(\\alpha^{\\frac{-\\rho}{\\rho-1}}+(\\beta\\theta)^{\\frac{-\\rho}{\\rho-1}}+\\delta^{\\frac{-\\rho}{\\rho-1}})})^{\\rho}+(\\frac{\\delta(t_dA\\theta+h\\theta+FA)}{A\\theta(1+(\\frac{\\delta}{\\alpha})^{\\frac{\\rho}{\\rho-1}}+(\\frac{\\delta}{\\gamma A})^{\\frac{\\rho}{\\rho-1}}+(\\frac{\\delta}{\\beta\\theta})^{\\frac{\\rho}{\\rho-1}})})^{\\rho})^{\\frac{1}{\\rho}}\n",
    "\\end{align}"
   ]
  },
  {
   "cell_type": "markdown",
   "id": "e1dcec5b",
   "metadata": {},
   "source": [
    "### 5.Comparative statics"
   ]
  },
  {
   "cell_type": "markdown",
   "id": "75f3a2a6",
   "metadata": {},
   "source": [
    "From the results of optimal choice variables, we first observe that students' optimal time allocations are depend on the exogenous variables that are not limited in the equilibrium above. Therefore, we try to find out further knowledge of how the changes in some exogenous variables affect the changes in students'optimal time allocations in our model."
   ]
  },
  {
   "cell_type": "markdown",
   "id": "a6fbc352",
   "metadata": {},
   "source": [
    "**(a) How the change in total disposable time $t_d$ affect the students' time choices**"
   ]
  },
  {
   "cell_type": "markdown",
   "id": "a633e930",
   "metadata": {},
   "source": [
    "\\begin{align}\n",
    "\\frac{\\partial l^\\ast}{\\partial t_d}&=\\frac{1}{(1+(\\frac{\\alpha}{\\delta})^{\\frac{\\rho}{\\rho-1}}+(\\frac{\\alpha}{\\gamma A})^{\\frac{\\rho}{\\rho-1}}+(\\frac{\\alpha}{\\beta\\theta})^{\\frac{\\rho}{\\rho-1}})}\\\\\n",
    "\\frac{\\partial t_s^\\ast}{\\partial t_d}&=\\frac{1}{(\\theta \\beta)^{\\frac{\\rho}{\\rho-1}}(\\alpha^{\\frac{-\\rho}{\\rho-1}}+(A\\gamma)^{\\frac{-\\rho}{\\rho-1}}+\\delta^{\\frac{-\\rho}{\\rho-1}})}\\\\\n",
    "\\frac{\\partial t_a^\\ast}{\\partial t_d}&=\\frac{1}{(A\\gamma)^{\\frac{\\rho}{\\rho-1}}(\\alpha^{\\frac{-\\rho}{\\rho-1}}+(\\beta\\theta)^{\\frac{-\\rho}{\\rho-1}}+\\delta^{\\frac{-\\rho}{\\rho-1}})}\\\\\n",
    "\\frac{\\partial e^\\ast}{\\partial t_d}&=\\frac{1}{A\\theta(1+(\\frac{\\delta}{\\alpha})^{\\frac{\\rho}{\\rho-1}}+(\\frac{\\delta}{\\gamma A})^{\\frac{\\rho}{\\rho-1}}+(\\frac{\\delta}{\\beta\\theta})^{\\frac{\\rho}{\\rho-1}})}\\\\\n",
    "\\end{align}\n",
    "From the assumptions above, we know that $A,\\alpha, \\beta, \\gamma,\\delta, \\rho$ are all positive numbers. However, the effective coefficient $\\theta$ in social activities is undetermined. Since we don't know the exact values for each of variables,  we need to discuss three conditions.\n",
    "(1)When students'social activities in the efficient and less efficient levels,which means $\\theta>0$. Thus, from the derivative results, we can see that all of them all positive.In this case,as total disposable time increases, the optimal time for all four areas will increase.(2)When students'social activities are in the inefficient level, $\\theta<0$, $(\\frac{\\alpha}{\\beta\\theta})^{\\frac{\\rho}{\\rho-1}}, (\\beta\\theta)^{\\frac{-\\rho}{\\rho-1}},(\\frac{\\delta}{\\beta\\theta})^{\\frac{\\rho}{\\rho-1}}$ will be negative.However, it's not small enough to make $(1+(\\frac{\\delta}{\\alpha})^{\\frac{\\rho}{\\rho-1}}+(\\frac{\\delta}{\\gamma A})^{\\frac{\\rho}{\\rho-1}}+(\\frac{\\delta}{\\beta\\theta})^{\\frac{\\rho}{\\rho-1}}), (\\alpha^{\\frac{-\\rho}{\\rho-1}}+(\\beta\\theta)^{\\frac{-\\rho}{\\rho-1}}+\\delta^{\\frac{-\\rho}{\\rho-1}})$ negative. In this case, as the total disposable time increases, the optimal time of leisure, academic will still increase but the optimal social and extracurricular time decreases. (3) When students' social activities become extremely inefficient, which means the $\\theta$ become much smaller, the situations change again. As total disposable time increases, it's surprising that the leisure time, academic time and social time will decrease but the extracurricular time increases."
   ]
  },
  {
   "cell_type": "markdown",
   "id": "777da560",
   "metadata": {},
   "source": [
    "**(b) How the change in numbers of friends affect the time allocation** "
   ]
  },
  {
   "cell_type": "markdown",
   "id": "f2ddb275",
   "metadata": {},
   "source": [
    "\\begin{align}\n",
    "\\frac{\\partial l^\\ast}{\\partial F}&=\\frac{1}{\\theta(1+(\\frac{\\alpha}{\\delta})^{\\frac{\\rho}{\\rho-1}}+(\\frac{\\alpha}{\\gamma A})^{\\frac{\\rho}{\\rho-1}}+(\\frac{\\alpha}{\\beta\\theta})^{\\frac{\\rho}{\\rho-1}})} \\\\\n",
    "\\frac{\\partial t_s^\\ast}{\\partial F}&=-\\frac{1}{\\theta} \\\\\n",
    "\\frac{\\partial t_a^\\ast}{\\partial F}&=\\frac{\\theta^{-1}}{(A\\gamma)^{\\frac{\\rho}{\\rho-1}}(\\alpha^{\\frac{-\\rho}{\\rho-1}}+(\\beta\\theta)^{\\frac{-\\rho}{\\rho-1}}+\\delta^{\\frac{-\\rho}{\\rho-1}})}\\\\\n",
    "\\frac{\\partial e^\\ast}{\\partial F}&=\\frac{1}{\\theta(1+(\\frac{\\alpha}{\\delta})^{\\frac{\\rho}{\\rho-1}}+(\\frac{\\alpha}{\\gamma A})^{\\frac{\\rho}{\\rho-1}}+(\\frac{\\alpha}{\\beta\\theta})^{\\frac{\\rho}{\\rho-1}})}\n",
    "\\end{align}"
   ]
  },
  {
   "cell_type": "markdown",
   "id": "1f98ffd5",
   "metadata": {},
   "source": [
    "As the numbers of friends increases, the effects on the students' time allocations are still undetermined because of the effective coefficient $\\theta$. If $\\theta>0$, as the number of friends increases, the optimal time of lesiure, academic, and extracurricular increases and optimal social time decreases. If $\\theta <0$, as the number of friends increases, the optimal time of social time increases and the other three time allocations is still depends on the level of the social inefficiency and the shared parameters."
   ]
  },
  {
   "cell_type": "markdown",
   "id": "33d687bf",
   "metadata": {},
   "source": [
    "**(c) How the change in numbers of honors/achievements affect the time allocation**"
   ]
  },
  {
   "cell_type": "markdown",
   "id": "8cb26572",
   "metadata": {},
   "source": [
    "\\begin{align}\n",
    "\\frac{\\partial l^\\ast}{\\partial h}&=\\frac{1}{A(1+(\\frac{\\alpha}{\\delta})^{\\frac{\\rho}{\\rho-1}}+(\\frac{\\alpha}{\\gamma A})^{\\frac{\\rho}{\\rho-1}}+(\\frac{\\alpha}{\\beta\\theta})^{\\frac{\\rho}{\\rho-1}})}\\\\\n",
    "\\frac{\\partial t_s^\\ast}{\\partial h}&=\\frac{1}{A(\\theta \\beta)^{\\frac{\\rho}{\\rho-1}}(\\alpha^{\\frac{-\\rho}{\\rho-1}}+(A\\gamma)^{\\frac{-\\rho}{\\rho-1}}+\\delta^{\\frac{-\\rho}{\\rho-1}})}\\\\\n",
    "\\frac{\\partial t_a^\\ast}{\\partial h}&=-\\frac{1}{A}\\\\\n",
    "\\frac{\\partial e^\\ast}{\\partial h}&=\\frac{1}{A(1+(\\frac{\\alpha}{\\delta})^{\\frac{\\rho}{\\rho-1}}+(\\frac{\\alpha}{\\gamma A})^{\\frac{\\rho}{\\rho-1}}+(\\frac{\\alpha}{\\beta\\theta})^{\\frac{\\rho}{\\rho-1}})}\\\\\n",
    "\\end{align}"
   ]
  },
  {
   "cell_type": "markdown",
   "id": "d45c81a8",
   "metadata": {},
   "source": [
    "The effect of numbers of honors/achievements in academics on students' time allocation is pretty straightforward. As the number of honors/achievements increases, the optimal time for academics definitely decreases and time for social activities increases as $\\theta >0$; decreases as $\\theta<0$.However, it's undetermined for the time allocations in leisure and extracurricular due to the complexity in the denominator as we discussed above."
   ]
  },
  {
   "cell_type": "markdown",
   "id": "a5ee929b",
   "metadata": {},
   "source": [
    "**(d) How the change in social effective coefficient $\\theta$ affect the social time allocation**"
   ]
  },
  {
   "cell_type": "markdown",
   "id": "2ea608eb",
   "metadata": {},
   "source": [
    "\\begin{align}\n",
    "\\frac{\\partial t_s^\\ast}{\\partial \\theta}&=\\frac{\\frac{-\\rho}{\\rho-1}(\\theta\\beta)^\\frac{1-2\\rho}{\\rho-1}\\beta (t_d+hA^{-1})}{(\\alpha^{\\frac{-\\rho}{\\rho-1}}+(A\\gamma)^{\\frac{-\\rho}{\\rho-1}}+\\delta^{\\frac{-\\rho}{\\rho-1}})}+\\frac{F}{\\theta^2}\\\\\n",
    "\\end{align}\n"
   ]
  },
  {
   "cell_type": "markdown",
   "id": "1a706af1",
   "metadata": {},
   "source": [
    "As social activities become more efficient, $\\theta$ increases, the optimal social time increases."
   ]
  },
  {
   "cell_type": "markdown",
   "id": "a290eed0",
   "metadata": {},
   "source": [
    "## Discussion/Conclusion"
   ]
  },
  {
   "cell_type": "markdown",
   "id": "c2399d8b",
   "metadata": {},
   "source": [
    "From the analysis above, we first find that the optimal choices for college students is a really complicated problems since there are so much exogenous variables or environmental factors correlated to each other and affect the best choices of time allocations in achieving the maximum utility as we approaches the real world setting. Nonetheless, we still develop some further understanding of how college students, as utility maximizers, choose to spend their time in each categories.We find that because of the great variations in students' effectiveness of social activities, the effects of various exogenous variables on optimal allocated time can be completely different.\n",
    "\n",
    "If a student has an effective social activities when spending time on it, first, we can see that the student will increase the time spent on all four categories as the total disposable time increases. This also can be understand intuitively: if there is more time to allocate/more resources to use, students turn to increase all the optimal time bundles. As the number of friends increases, the optimal leisure time, academic time, and extracurricular time will increase but the social time will decrease.Intuitively, this result illustrates that when students'are having more friends, students actually can allocate less time in social activities and allocate more time into other three fields in maxmimizing their total utility. The similar effect also happens in the change of number of academic honors. As the honor increases, the optimal time allocated for academic decreases and the time allocations in other categories increase.\n",
    "\n",
    "If a student has an ineffective social activities, the effect of changes in exogenous variables on other areas becomes unclear and the effect on social time is just the opposite. What's the intuition behind this? First, as for the social time allocation, the ineffectiveness of the soical time spending makes the changes in other exogenous variables meaningless. Because of the negative coefficient, the increases in social time will only lead the decline of social utility. So $t_s$ will decrease regardless of other factors'change. For the time allocations in other areas, a ineffective social activities may effect the influences generated by other factors which depends on the degree of the ineffective level. If the ineffective effect is not very serious, the single sign of the $\\theta$ will not change the results from the effective level. However, if the ineffective level becomes significantly low, it's possible that the effect of other exogenous variables will be covered by the ineffective effect."
   ]
  },
  {
   "cell_type": "markdown",
   "id": "5c60d8cc",
   "metadata": {},
   "source": [
    "## Iimitations"
   ]
  },
  {
   "cell_type": "markdown",
   "id": "f56a542f",
   "metadata": {},
   "source": [
    "Admittedly, there are several limitations in the model. First, we assume all the college students' utility derived from four categories.In fact, it's not the case for individual college students. Some introvert people may not take social activities as the process of producing utility, and others may don't have a habit of participating in extracurricular activities.Our model is too generalized to capture the constrained choices of individual student or group. Second, there could be overlaps in the four bundles we constructed. Realistically, many people socialize when they are collaborating in academic work, some others may socialize when they are enjoying leisure time or participating in atheletics or students clubs. Therefore, it seems to be unrealistic to split these time up. In a word, the model of utility maximization for college students need further improvement and studies."
   ]
  },
  {
   "cell_type": "markdown",
   "id": "3ddc90fc",
   "metadata": {},
   "source": [
    "## Reference"
   ]
  },
  {
   "cell_type": "markdown",
   "id": "26860064",
   "metadata": {},
   "source": [
    "Becker, Gary S.1965.\"A Theory of the Allocation of Time\".*The Economic Journal*. Sep., 1965, Vol. 75, No. 299 (Sep., 1965), pp. 493-517."
   ]
  },
  {
   "cell_type": "markdown",
   "id": "308bae44",
   "metadata": {},
   "source": [
    "Kelly, Allen C.1975.\"The Student as a Utility Maximizer\".*The Journal of Economic Education*. Spring, 1975, Vol. 6, No. 2 (Spring, 1975),\n",
    "pp. 82-92\n"
   ]
  }
 ],
 "metadata": {
  "kernelspec": {
   "display_name": "Python 3",
   "language": "python",
   "name": "python3"
  },
  "language_info": {
   "codemirror_mode": {
    "name": "ipython",
    "version": 3
   },
   "file_extension": ".py",
   "mimetype": "text/x-python",
   "name": "python",
   "nbconvert_exporter": "python",
   "pygments_lexer": "ipython3",
   "version": "3.8.8"
  }
 },
 "nbformat": 4,
 "nbformat_minor": 5
}
