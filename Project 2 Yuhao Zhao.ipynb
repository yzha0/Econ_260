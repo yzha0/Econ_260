{
 "cells": [
  {
   "cell_type": "code",
   "execution_count": 3,
   "id": "127f9e2b",
   "metadata": {},
   "outputs": [],
   "source": [
    "# import all functions from python labrary: sympy\n",
    "from sympy import *\n",
    "from math import *\n",
    "# import python library: matplotlib (for nice plots)\n",
    "import matplotlib\n",
    "# set sympy output to print pretty math expressions\n",
    "init_printing()"
   ]
  },
  {
   "cell_type": "markdown",
   "id": "7448f92a",
   "metadata": {},
   "source": [
    "Yuhao Zhao\n",
    "\n",
    "Econ 260\n",
    "\n",
    "Prof.He\n",
    "\n",
    "Individual Project 2"
   ]
  },
  {
   "cell_type": "markdown",
   "id": "83d1a58e",
   "metadata": {},
   "source": [
    "#  <div align=\"center\">            Game of Great Powers: Strategy in the Period of Warring States"
   ]
  },
  {
   "cell_type": "markdown",
   "id": "9efaf43d",
   "metadata": {},
   "source": [
    "## Introduction"
   ]
  },
  {
   "cell_type": "markdown",
   "id": "eb6933cd",
   "metadata": {},
   "source": [
    "Games are everywhere.From competition of retail stores near your neighborhood to the interactions among multinational companies, they all abide by some fundamental rules of even the simplest game essentially. In class, we have discussed various kinds of competitions about firms and business-related organizations. However, what about the game among states which holds the political authority? Is there a similar mechanism run through the inter-state competition? In order to study the game of powerful states, we hypothesize a period of warring states with three great power players within. And we will elaborate this topics through following sections: Assumption, Model, Analysis, Discussion and Conclusion/limitations."
   ]
  },
  {
   "cell_type": "markdown",
   "id": "8b8e3347",
   "metadata": {},
   "source": [
    "## Assumptions"
   ]
  },
  {
   "cell_type": "markdown",
   "id": "4a6c8482",
   "metadata": {},
   "source": [
    "**Our first assumption is that there are three homogenous states in the period of warring states.** \n",
    "\n",
    "All states are in the demand of homogenous resources of lands. All states are rational and will act strategically to maximize their resources.\n",
    "\n",
    "**Our second asumption is that the essential rule of this game is maximizing the resources one could acquire from the land.**\n",
    "\n",
    "There is no collusion among the states. The states are having market power and they are competing in the amount of land they acquired.\n",
    "\n",
    "**Our third assumption is that the demand of accquiring land(waging a war) is determined mainly by four factors: population size, resource level, and comprehensive national power(CNP).**\n",
    "\n",
    "**Our fourth assumption is that the amount of land a state acquire depends on the level of military and economic strength. Similarly, their cost is also composed of military forces and economic resources.**\n",
    "\n",
    "(Details will be expanded in the conceptual framework below.)"
   ]
  },
  {
   "cell_type": "markdown",
   "id": "26e91a01",
   "metadata": {},
   "source": [
    "## Model\n"
   ]
  },
  {
   "cell_type": "markdown",
   "id": "db3a9daf",
   "metadata": {},
   "source": [
    "### 1. Conceptual Framework"
   ]
  },
  {
   "cell_type": "markdown",
   "id": "4759a631",
   "metadata": {},
   "source": [
    "In this section, we will define the variables we are using in this model that built on the assumptions we clarified above. \n",
    "\n",
    "First, the three states are denoted as $i,j,k.$ Based on the assumption of homogeneity, we assume that three states have the same way of acquiring lands.We assume acquired land $L$ as a function of military forces assigned and amount of economic resources, denoted as $M$ and $E$ respectively. The cost is defined as the cost of the state in acquiring land through war, which is denoted as $C$.\n",
    "\n",
    "Second, the demand of land $L_d$ is defined as the total demand of lands of three states. Based on the assumption, we define $L_d$ as a function of four variables: population $P$, resource intensity of land $R$, and level of CNP $N$. Remarkably, the CNP index is defined as a measurement of a state's comprehensive strength.We assume that as a state's comprehensive strength increases, the demand of waging a war for more resources is likely to increase as well.\n",
    "\n",
    "\n"
   ]
  },
  {
   "cell_type": "markdown",
   "id": "3501dfbb",
   "metadata": {},
   "source": [
    "### 2. Functions and coefficients"
   ]
  },
  {
   "cell_type": "markdown",
   "id": "6ee78a76",
   "metadata": {},
   "source": [
    "Since three states are homogeneous, we will take state $i$ as the example here to illustrate the functions and coefficients.\n",
    "\n",
    "First, state $i$ has a function of acquiring land through war. We utilize the Cobb-Douglas function for it's expression.\n",
    "\\begin{align}\n",
    "L_i(M_i, E_i)={M_i}^\\alpha {E_i}^\\beta\n",
    "\\end{align}\n",
    "Where $\\alpha$ and $\\beta$ are defined as the output elasticity of each component.\n",
    "\n",
    "Second, State $i$ has a cost function in acquiring the new land.\n",
    "\\begin{align}\n",
    "C_i(M_i, E_i)=kM_i+lE_i\n",
    "\\end{align}\n",
    "$k$ and $l$ are defined as the the resource share of coefficient on each input in cost function. More specifically, the coeffcient $k, l$ measure how much resource does military forces and economic goods use in the war.\n",
    "\n",
    "Last but not the least, there is also an aggregated demand of land $L_d$ of three states.We assume the function as following:\n",
    "\\begin{align}\n",
    "L_d=P+bR+cN\n",
    "\\end{align}\n",
    "We assume that as population grows, the demand for land increase.$a,b,c$ are the parameters measured the effects of these specific variables. Moreover, as $R$ increases or national power $N$ increases, the demanded land increases."
   ]
  },
  {
   "cell_type": "markdown",
   "id": "9a967196",
   "metadata": {},
   "source": [
    "## Analysis"
   ]
  },
  {
   "cell_type": "markdown",
   "id": "fcdc5f9e",
   "metadata": {},
   "source": [
    "### 1. Cost Minimization"
   ]
  },
  {
   "cell_type": "markdown",
   "id": "e9341b5c",
   "metadata": {},
   "source": [
    "#### a. Set up the cost minimization problem\n",
    "For each state, we want to know that what is the optimal/minimum cost for a state to acquire a certain amount of land. Because of the homogenity, we will only conduct the cost minimization of firm $i$.\n",
    "\\begin{align}\n",
    "\\min_{M_i, E_i} \\quad C_i(M_i,E_i) &= kM_i+lE_i\\\\\n",
    "\\text{s.t.}\\quad  L_i{(M_i, E_i)} &= {M_i}^{\\alpha}{E_i}^{\\beta}\n",
    "\\end{align}"
   ]
  },
  {
   "cell_type": "markdown",
   "id": "3bfeaf79",
   "metadata": {},
   "source": [
    "#### b. Lagragian\n",
    "\\begin{align}\n",
    "\\mathcal{L}=kM_i+lE_i+\\lambda(\\bar{L_i}-{M_i}^\\alpha{E_i}^\\beta)\n",
    "\\end{align}"
   ]
  },
  {
   "cell_type": "markdown",
   "id": "9873a047",
   "metadata": {},
   "source": [
    "#### c. First Order Conditions(FOCs)\n",
    "\n",
    "\\begin{align}\n",
    "\\frac{\\partial \\mathcal{L}}{\\partial M_i}&=k-\\lambda\\alpha {M_i}^{\\alpha-1}{E_i}^\\beta=0\\\\\n",
    "\\frac{\\partial \\mathcal{L}}{\\partial E_i}&=l-\\lambda\\beta{M_i}^\\alpha{E_i}^{\\beta-1}=0\\\\\n",
    "\\frac{\\partial \\mathcal{L}}{\\partial \\lambda}&=\\bar{L_i}-{M_i}^\\alpha {E_i}^\\beta=0\n",
    "\\end{align}"
   ]
  },
  {
   "cell_type": "markdown",
   "id": "8f954e87",
   "metadata": {},
   "source": [
    "#### d. Solving the optimal choice of $M_i, E_i$"
   ]
  },
  {
   "cell_type": "markdown",
   "id": "93337523",
   "metadata": {},
   "source": [
    "From the first two equations, we know\n",
    "\\begin{align}\n",
    "\\frac{k}{l}&=\\frac{\\alpha E_i}{\\beta M_i}\\\\\n",
    "&\\Downarrow\\\\\n",
    "E_i&=\\frac{k\\beta}{l\\alpha}M_i\n",
    "\\end{align}\n",
    "By plugging it into the third FOC, we have\n",
    "\\begin{align}\n",
    "\\bar{L_i}&={M_i}^\\alpha(\\frac{k\\beta}{l\\alpha}M_i)^\\beta\\\\\n",
    "\\bar{L_i}&={M_i}^{\\alpha+\\beta}(\\frac{k\\beta}{l\\alpha})^\\beta\\\\\n",
    "M_i^\\ast&=\\bar{L_i}^{\\frac{1}{\\alpha+\\beta}}(\\frac{l\\alpha}{k\\beta})^{\\frac{\\beta}{\\alpha+\\beta}}\n",
    "\\end{align}\n",
    "Therefore, we can also have $E_i^\\ast$:\n",
    "\\begin{align}\n",
    "E_i^\\ast=\\bar{L_i}^{\\frac{1}{\\alpha+\\beta}}(\\frac{l\\alpha}{k\\beta})^{\\frac{-\\alpha}{\\alpha+\\beta}}\n",
    "\\end{align}"
   ]
  },
  {
   "cell_type": "markdown",
   "id": "061cdfd4",
   "metadata": {},
   "source": [
    "Plugging $M_i^\\ast$ and $E_i^\\ast$ back to the cost function, we can derive the optimal spending function of state $i$:\n",
    "\\begin{align}\n",
    "S_i(k,l,\\alpha,\\beta,\\bar{L_i})&=k(\\bar{L_i}^{\\frac{1}{\\alpha+\\beta}}(\\frac{l\\alpha}{k\\beta})^{\\frac{\\beta}{\\alpha+\\beta}})+l(\\bar{L_i}^{\\frac{1}{\\alpha+\\beta}}(\\frac{l\\alpha}{k\\beta})^{\\frac{-\\alpha}{\\alpha+\\beta}})\\\\\n",
    "\\Downarrow\\\\\n",
    "S_i(k,l,\\alpha,\\beta,\\bar{L_i})&=\\bar{L_i}^{\\frac{1}{\\alpha+\\beta}}k^{\\frac{\\alpha}{\\alpha+\\beta}}(\\frac{l\\alpha}{\\beta})^{\\frac{\\beta}{\\alpha+\\beta}}+l^{\\frac{\\beta}{\\alpha+\\beta}}\\bar{L_i}^{\\frac{1}{\\alpha+\\beta}}(\\frac{\\alpha}{k\\beta})^{\\frac{-\\alpha}{\\alpha+\\beta}}\n",
    "\\end{align}\n",
    "Which can be transformed into:\n",
    "\\begin{align}\n",
    "S_i(k,l,\\alpha,\\beta,\\bar{L_i})&=\\bar{L_i}^{\\frac{1}{\\alpha+\\beta}}k^{\\frac{\\alpha}{\\alpha+\\beta}}l^{\\frac{\\beta}{\\alpha+\\beta}}((\\alpha+\\beta)(\\frac{1}{\\alpha})^{\\frac{\\alpha}{\\alpha+\\beta}} (\\frac{1}{\\beta})^{\\frac{\\beta}{\\alpha+\\beta}})\n",
    "\\end{align}"
   ]
  },
  {
   "cell_type": "markdown",
   "id": "128d8eb4",
   "metadata": {},
   "source": [
    "#### e. Comparative Statics\n",
    "From the optimal spending function of each state above, we find out that the final decision of the optimal decision depends on five factors $k,l,\\alpha, \\beta, \\bar{L}$. Since the output elasiticity of military and economic inputs $\\alpha, \\beta$ are involved throughout the functions, it's convenient to first set the scenarios for them.\n",
    "\n",
    "Before the scenarios of scales set up, we will first derive the derivatives of spending function with respect to each exogenous variables:\n",
    "\\begin{align}\n",
    "\\frac{\\partial S}{\\partial \\bar{L}}&=\\frac{1}{\\alpha+\\beta}\\bar{L}^{\\frac{1}{\\alpha+\\beta}-1}k^{\\frac{\\alpha}{\\alpha+\\beta}}l^{\\frac{\\beta}{\\alpha+\\beta}}((\\alpha+\\beta)(\\frac{1}{\\alpha})^{\\frac{\\alpha}{\\alpha+\\beta}} (\\frac{1}{\\beta})^{\\frac{\\beta}{\\alpha+\\beta}})\\\\\n",
    "\\frac{\\partial S}{\\partial k}&=\\frac{\\alpha}{\\alpha+\\beta}k^{\\frac{-\\beta}{\\alpha+\\beta}}\\bar{L}^{\\frac{1}{\\alpha+\\beta}}l^{\\frac{\\beta}{\\alpha+\\beta}}((\\alpha+\\beta)(\\frac{1}{\\alpha})^{\\frac{\\alpha}{\\alpha+\\beta}} (\\frac{1}{\\beta})^{\\frac{\\beta}{\\alpha+\\beta}})\\\\\n",
    "\\frac{\\partial S}{\\partial l}&=\\frac{\\beta}{\\alpha+\\beta}l^{-\\frac{\\alpha}{\\alpha+\\beta}}\\bar{L}^{\\frac{1}{\\alpha+\\beta}}k^{\\frac{\\alpha}{\\alpha+\\beta}}((\\alpha+\\beta)(\\frac{1}{\\alpha})^{\\frac{\\alpha}{\\alpha+\\beta}} (\\frac{1}{\\beta})^{\\frac{\\beta}{\\alpha+\\beta}})\n",
    "\\end{align}\n",
    "\n",
    "(1)$0<\\alpha<1, 0<\\beta<1, \\alpha+\\beta<1$\n",
    "\n",
    "As $\\bar{L}$ increases, the total spending increases;however, the marginal spending is increasing which is similar to the diseconomies of scale in the production process.\n",
    "\n",
    "As $k$ increases, the total spending increases.\n",
    "\n",
    "As $l$ increases, the total spending increases\n",
    "\n",
    "(2)$\\alpha+\\beta=1$\n",
    "\n",
    "As $\\bar{L}$ increases, the total spending increases;further, the marginal spending is constant overtime.\n",
    "As $k$ increases, the total spending increases.\n",
    "As $l$ increases, the total spending increases.\n",
    "\n",
    "(3)$0<\\alpha<1, \\beta>1,\\alpha+\\beta>1$\n",
    "\n",
    "As $\\bar{L}$ increases, the total spending increases;further, the marginal spending is decreasing which is similar to the economies of scale in the production.\n",
    "\n",
    "As $k$ increases, the total spending increases. \n",
    "\n",
    "As $l$ increases, the total spending increases.\n",
    "\n",
    "(4)$\\alpha>1, \\beta>1, \\alpha+\\beta>1$\n",
    "\n",
    "Same as the (3) above."
   ]
  },
  {
   "cell_type": "markdown",
   "id": "782eadbc",
   "metadata": {},
   "source": [
    "### 2. Resource Maximization under Cournot Competition"
   ]
  },
  {
   "cell_type": "markdown",
   "id": "ca9a4346",
   "metadata": {},
   "source": [
    "For each state, the ultimate goal is to maximizing the resources gained. In this section, we will discover the strategies for maxmizing the resources. \n",
    "#### a. Inverse Demand\n",
    "Before set-up the resource maximization problem, we first need to derive the inverse demand function from the aggregated demand above.\n",
    "\n",
    "\\begin{align}\n",
    "L_d&=P+bR+cN\\\\\n",
    "&\\Downarrow\\\\\n",
    "R&=\\frac{L_d-P-cN}{b}\n",
    "\\end{align}\n",
    "#### b. Set-up problem\n",
    "We still take state $i$ as the example.\n",
    "\n",
    "\\begin{align}\n",
    "\\max\\pi_i&= G_i-S_i\\\\\n",
    "\\max_{L_i}\\pi_i&= RL_i-S_i\\\\\n",
    "\\max_{L_i}\\pi_i&= (\\frac{L_d-P-cN}{b})L_i-L_i^{\\frac{1}{\\alpha+\\beta}}k^{\\frac{\\alpha}{\\alpha+\\beta}}l^{\\frac{\\beta}{\\alpha+\\beta}}((\\alpha+\\beta)(\\frac{1}{\\alpha})^{\\frac{\\alpha}{\\alpha+\\beta}} (\\frac{1}{\\beta})^{\\frac{\\beta}{\\alpha+\\beta}})\\\\\n",
    "\\max_{L_i}\\pi_i&= (\\frac{(L_i+\\hat{L_j}+\\hat{L_k})-P-cN}{b})L_i-L_i^{\\frac{1}{\\alpha+\\beta}}k^{\\frac{\\alpha}{\\alpha+\\beta}}l^{\\frac{\\beta}{\\alpha+\\beta}}((\\alpha+\\beta)(\\frac{1}{\\alpha})^{\\frac{\\alpha}{\\alpha+\\beta}} (\\frac{1}{\\beta})^{\\frac{\\beta}{\\alpha+\\beta}})\n",
    "\\end{align}\n",
    "#### c. Cournot Conjecture \n",
    "\n",
    "Notice that state $i$ don't really know what exactly state $j,k$ choose to acquire, so they have to respond with a belief about the amount of land other states acquire.Therefore, we have $\\hat{L_j}, \\hat{L_k}$ denoted as the predicted amount of land they want to acquire."
   ]
  },
  {
   "cell_type": "markdown",
   "id": "7e6fa9cb",
   "metadata": {},
   "source": [
    "#### c. FOC\n",
    "\\begin{align}\n",
    "\\frac{\\partial \\pi}{\\partial L_i}=\\frac{2L_i+\\hat{L_j}+\\hat{L_k}-P-cN}{b}-\\frac{1}{\\alpha+\\beta}L_i^{\\frac{1}{\\alpha+\\beta}-1}k^{\\frac{\\alpha}{\\alpha+\\beta}}l^{\\frac{\\beta}{\\alpha+\\beta}}((\\alpha+\\beta)(\\frac{1}{\\alpha})^{\\frac{\\alpha}{\\alpha+\\beta}} (\\frac{1}{\\beta})^{\\frac{\\beta}{\\alpha+\\beta}})=0\n",
    "\\end{align}"
   ]
  },
  {
   "cell_type": "markdown",
   "id": "5be3d67c",
   "metadata": {},
   "source": [
    "Due to simplicity purpose, we use $A$ denoted the $k^{\\frac{\\alpha}{\\alpha+\\beta}}l^{\\frac{\\beta}{\\alpha+\\beta}}((\\alpha+\\beta)(\\frac{1}{\\alpha})^{\\frac{\\alpha}{\\alpha+\\beta}} (\\frac{1}{\\beta})^{\\frac{\\beta}{\\alpha+\\beta}})$. Therefore, we can derive the $L_i^\\ast(\\hat{L_j},\\hat{L_k})$:\n",
    "\\begin{align}\n",
    "\\frac{1}{\\alpha+\\beta}L_i^{\\frac{1}{\\alpha+\\beta}-1}A&=\\frac{2L_i+\\hat{L_j}+\\hat{L_k}-P-cN}{b}\\\\\n",
    "\\frac{1}{\\alpha+\\beta}{L_i^\\ast}^{\\frac{1}{\\alpha+\\beta}-1}A-\\frac{2}{b}L_i^\\ast&=\\frac{\\hat{L_j}+\\hat{L_k}-P-cN}{b}\\\\\n",
    "\\end{align}"
   ]
  },
  {
   "cell_type": "markdown",
   "id": "762b32c9",
   "metadata": {},
   "source": [
    "Without clarifying the $\\alpha+\\beta$, it's hard to continue the analysis of cournot game. Thus, we need to discuss three possibilities based on the value of $\\alpha+\\beta.$"
   ]
  },
  {
   "cell_type": "code",
   "execution_count": 14,
   "id": "61e4442e",
   "metadata": {},
   "outputs": [],
   "source": [
    "i,j,k,P,c,N,A,b= symbols(\"i,j,k,P,c,N,A,b\")"
   ]
  },
  {
   "cell_type": "markdown",
   "id": "662abfc6",
   "metadata": {},
   "source": [
    "#### d. Cournot Game"
   ]
  },
  {
   "cell_type": "markdown",
   "id": "b5471bfa",
   "metadata": {},
   "source": [
    "**(1)$\\alpha+\\beta=1$ $\\Rightarrow$ Constant Return**"
   ]
  },
  {
   "cell_type": "markdown",
   "id": "19e43017",
   "metadata": {},
   "source": [
    "The best respone function of state $i$ will be:\n",
    "\\begin{align}\n",
    "L_i^\\ast(\\hat{L_j},\\hat{L_k})=(A-\\frac{2}{b}L_i)&=\\frac{\\hat{L_j}+\\hat{L_k}-P-cN}{b}\\\\\n",
    "L_i^\\ast&=\\frac{P+Ab+cN-\\hat{L_j}-\\hat{L_k}}{2}\n",
    "\\end{align}\n",
    "\n",
    "From the best response function, we have a system of equations:\n",
    "\\begin{align}\n",
    "L_i^\\ast(\\hat{L_j},\\hat{L_k})&=\\frac{P+Ab+cN-\\hat{L_j}-\\hat{L_k}}{2}\\\\\n",
    "L_j^\\ast(\\hat{L_i},\\hat{L_k})&=\\frac{P+Ab+cN-\\hat{L_i}-\\hat{L_k}}{2}\\\\\n",
    "L_k^\\ast(\\hat{L_i},\\hat{L_j})&=\\frac{P+Ab+cN-\\hat{L_i}-\\hat{L_j}}{2}\n",
    "\\end{align}\n",
    "By imposing the Nash Equilibrium, we assume each state have the best and correct responses($\\hat{L_n}=L_n^\\ast$); Therefore we can solve the system of equations easily:\n",
    "\\begin{align}\n",
    "L_i^\\ast(L_j^\\ast,L_k^\\ast)&=\\frac{P+Ab+cN-{L_j}^\\ast-{L_k}^\\ast}{2}\\\\\n",
    "L_j^\\ast(L_i^\\ast,L_k^\\ast)&=\\frac{P+Ab+cN-{L_i}^\\ast-{L_k}^\\ast}{2}\\\\\n",
    "L_k^\\ast(L_i^\\ast,L_j^\\ast)&=\\frac{P+Ab+cN-{L_i}^\\ast-{L_j}^\\ast}{2}\n",
    "\\end{align}\n",
    "\n",
    "Therefore, we have\n",
    "\\begin{align}\n",
    "L_i^\\ast=L_j^\\ast=L_k^\\ast=\\frac{Ab+P+cN}{4}=\\frac{(\\frac{k}{\\alpha})^\\alpha(\\frac{l}{\\beta})^\\beta b+P+cN}{4}\\\\\n",
    "\\end{align}"
   ]
  },
  {
   "cell_type": "markdown",
   "id": "fa28a2ce",
   "metadata": {},
   "source": [
    "Plugging N.E. quantities into the aggregated demand, we can derive the resource level at Cournot Nash Equilibrium:\n",
    "\\begin{align}\n",
    "R_{N.E.}&=\\frac{L_i^\\ast+L_j^\\ast+L_k^\\ast-P-cN}{b}\\\\\n",
    "&=\\frac{\\frac{3(Ab+P+cN)}{4}-P-cN}{b}\\\\\n",
    "&=\\frac{3A}{4}-\\frac{P+cN}{4b}\\\\\n",
    "&=\\frac{3(\\frac{k}{\\alpha})^\\alpha(\\frac{l}{\\beta})^\\beta}{4}-\\frac{P+cN}{4b}\n",
    "\\end{align}\n",
    "\n",
    "Also, we can derive the maximum resources of a state can acquire at Cournot Nash Equilibrium:\n",
    "\n",
    "\\begin{align}\n",
    "\\max \\pi_{N.E.}&=(\\frac{3(\\frac{k}{\\alpha})^\\alpha(\\frac{l}{\\beta})^\\beta}{4}-\\frac{P+cN}{4b})L^\\ast-L^\\ast(\\frac{k}{\\alpha})^\\alpha(\\frac{l}{\\beta})^\\beta\\\\\n",
    "&=(\\frac{-(\\frac{k}{\\alpha})^\\alpha(\\frac{l}{\\beta})^\\beta}{4}-\\frac{P+cN}{4b})L^\\ast\\\\\n",
    "&=(\\frac{-(\\frac{k}{\\alpha})^\\alpha(\\frac{l}{\\beta})^\\beta}{4}-\\frac{P+cN}{4b})\\frac{(\\frac{k}{\\alpha})^\\alpha(\\frac{l}{\\beta})^\\beta b+P+cN}{4}\n",
    "\\end{align}"
   ]
  },
  {
   "cell_type": "markdown",
   "id": "d0339dfe",
   "metadata": {},
   "source": [
    "**(2)$\\alpha+\\beta=0.5 \\Rightarrow$ Diseconomies of scale**"
   ]
  },
  {
   "cell_type": "markdown",
   "id": "fcab3ad6",
   "metadata": {},
   "source": [
    "The best response functions under N.E will be:\n",
    "\\begin{align}\n",
    "L_i^\\ast(L_j^\\ast,L_k^\\ast)&=\\frac{{L_j}^\\ast+{L_k}^\\ast-P-cN}{2Ab-2}\\\\\n",
    "L_j^\\ast(L_i^\\ast,L_k^\\ast)&=\\frac{{L_i}^\\ast+{L_k}^\\ast-P-cN}{2Ab-2}\\\\\n",
    "L_k^\\ast(L_i^\\ast,L_j^\\ast)&=\\frac{L_i^\\ast+L_j^\\ast-P-cN}{2Ab-2}\n",
    "\\end{align}"
   ]
  },
  {
   "cell_type": "markdown",
   "id": "832ec045",
   "metadata": {},
   "source": [
    "Therefore, we have:\n",
    "\\begin{align}\n",
    "L_i^\\ast=L_j^\\ast=L_k^\\ast=\\frac{-cN-P}{2Ab-4}=\\frac{-cN-P}{(\\frac{k}{\\alpha})^{2\\alpha}(\\frac{l}{\\beta})^{2\\beta}b-4}\n",
    "\\end{align}"
   ]
  },
  {
   "cell_type": "markdown",
   "id": "d99a5120",
   "metadata": {},
   "source": [
    "Plugging N.E.quantities into the demand function above, we will have resource level at Cournot N.E. when states are in diseconomies of scale:\n",
    "\n",
    "\\begin{align}\n",
    "R_{N.E.}&=\\frac{L_i^\\ast+L_j^\\ast+L_k^\\ast-P-cN}{b}\\\\\n",
    "&=\\frac{\\frac{-3(cN+P)}{2Ab-4}-(P+cN)}{b}\\\\\n",
    "&=\\frac{(1-2Ab)(P+cN)}{(2Ab-4)b}\\\\\n",
    "&=\\frac{(1-(\\frac{k}{\\alpha})^{2\\alpha}(\\frac{l}{\\beta})^{2\\beta}b)(P+cN)}{(((\\frac{k}{\\alpha})^{2\\alpha}(\\frac{l}{\\beta})^{2\\beta}b)-4)b}\n",
    "\\end{align}"
   ]
  },
  {
   "cell_type": "markdown",
   "id": "9eb175b7",
   "metadata": {},
   "source": [
    "And the maximum resource of each state at equilibrium is:\n",
    "\\begin{align}\n",
    "\\max \\pi_{N.E.}&=R_{N.E.}L^\\ast-S_i\\\\\n",
    "&=\\frac{(1-2Ab)(P+cN)}{(2Ab-4)b}(\\frac{-cN-P}{2Ab-4})-(\\frac{-cN-P}{2Ab-4})^2A\\\\\n",
    "\\end{align}"
   ]
  },
  {
   "cell_type": "markdown",
   "id": "d4776f9e",
   "metadata": {},
   "source": [
    "**(3) $\\alpha+\\beta=2 \\Rightarrow$ Economies of scale**"
   ]
  },
  {
   "cell_type": "markdown",
   "id": "1520a358",
   "metadata": {},
   "source": [
    "The best response functions under N.E. will be:\n",
    "\\begin{align}\n",
    "L_i^\\ast(L_j^\\ast,L_k^\\ast)&=\\frac{{L_j}^\\ast+{L_k}^\\ast-P-cN}{\\frac{Ab}{2}L_i^{-\\frac{3}{2}}-2}\\\\\n",
    "L_j^\\ast(L_i^\\ast,L_k^\\ast)&=\\frac{{L_i}^\\ast+{L_k}^\\ast-P-cN}{\\frac{Ab}{2}L_j^{-\\frac{3}{2}}-2}\\\\\n",
    "L_k^\\ast(L_i^\\ast,L_j^\\ast)&=\\frac{L_i^\\ast+L_j^\\ast-P-cN}{\\frac{Ab}{2}L_k^{-\\frac{3}{2}}-2}\n",
    "\\end{align}"
   ]
  },
  {
   "cell_type": "code",
   "execution_count": 45,
   "id": "ce7c9cd7",
   "metadata": {
    "scrolled": true
   },
   "outputs": [
    {
     "data": {
      "image/png": "[encoded data removed]",
      "text/latex": [
       "$\\displaystyle - A i^{0.5} + \\frac{i \\left(- N c - P + i + j + k\\right)}{b}$"
      ],
      "text/plain": [
       "     0.5   i⋅(-N⋅c - P + i + j + k)\n",
       "- A⋅i    + ────────────────────────\n",
       "                      b            "
      ]
     },
     "execution_count": 45,
     "metadata": {},
     "output_type": "execute_result"
    }
   ],
   "source": [
    "ui=(i+j+k-P-c*N)/b*i-i**0.5*A\n",
    "ui"
   ]
  },
  {
   "cell_type": "code",
   "execution_count": 46,
   "id": "7ae68b5d",
   "metadata": {},
   "outputs": [],
   "source": [
    "uj=(i+j+k-P-c*N)/b*j-j**0.5*A\n",
    "uk=(i+j+k-P-c*N)/b*k-k**0.5*A"
   ]
  },
  {
   "cell_type": "code",
   "execution_count": 48,
   "id": "0a47c7fa",
   "metadata": {},
   "outputs": [
    {
     "ename": "KeyboardInterrupt",
     "evalue": "",
     "output_type": "error",
     "traceback": [
      "\u001b[1;31m---------------------------------------------------------------------------\u001b[0m",
      "\u001b[1;31mKeyboardInterrupt\u001b[0m                         Traceback (most recent call last)",
      "\u001b[1;32m<ipython-input-48-cdbcf746a580>\u001b[0m in \u001b[0;36m<module>\u001b[1;34m\u001b[0m\n\u001b[1;32m----> 1\u001b[1;33m \u001b[0msol\u001b[0m\u001b[1;33m=\u001b[0m \u001b[0msolve\u001b[0m\u001b[1;33m(\u001b[0m\u001b[1;33m(\u001b[0m\u001b[0mui\u001b[0m\u001b[1;33m.\u001b[0m\u001b[0mdiff\u001b[0m\u001b[1;33m(\u001b[0m\u001b[0mi\u001b[0m\u001b[1;33m)\u001b[0m\u001b[1;33m,\u001b[0m\u001b[0muj\u001b[0m\u001b[1;33m.\u001b[0m\u001b[0mdiff\u001b[0m\u001b[1;33m(\u001b[0m\u001b[0mj\u001b[0m\u001b[1;33m)\u001b[0m\u001b[1;33m,\u001b[0m\u001b[0muk\u001b[0m\u001b[1;33m.\u001b[0m\u001b[0mdiff\u001b[0m\u001b[1;33m(\u001b[0m\u001b[0mk\u001b[0m\u001b[1;33m)\u001b[0m\u001b[1;33m)\u001b[0m\u001b[1;33m,\u001b[0m\u001b[0mi\u001b[0m\u001b[1;33m,\u001b[0m\u001b[0mj\u001b[0m\u001b[1;33m,\u001b[0m\u001b[0mk\u001b[0m\u001b[1;33m)\u001b[0m\u001b[1;33m\u001b[0m\u001b[1;33m\u001b[0m\u001b[0m\n\u001b[0m\u001b[0;32m      2\u001b[0m \u001b[0msol\u001b[0m\u001b[1;33m\u001b[0m\u001b[1;33m\u001b[0m\u001b[0m\n",
      "\u001b[1;32mF:\\Anaconda\\lib\\site-packages\\sympy\\solvers\\solvers.py\u001b[0m in \u001b[0;36msolve\u001b[1;34m(f, *symbols, **flags)\u001b[0m\n\u001b[0;32m   1095\u001b[0m         \u001b[0msolution\u001b[0m \u001b[1;33m=\u001b[0m \u001b[0m_solve\u001b[0m\u001b[1;33m(\u001b[0m\u001b[0mf\u001b[0m\u001b[1;33m[\u001b[0m\u001b[1;36m0\u001b[0m\u001b[1;33m]\u001b[0m\u001b[1;33m,\u001b[0m \u001b[1;33m*\u001b[0m\u001b[0msymbols\u001b[0m\u001b[1;33m,\u001b[0m \u001b[1;33m**\u001b[0m\u001b[0mflags\u001b[0m\u001b[1;33m)\u001b[0m\u001b[1;33m\u001b[0m\u001b[1;33m\u001b[0m\u001b[0m\n\u001b[0;32m   1096\u001b[0m     \u001b[1;32melse\u001b[0m\u001b[1;33m:\u001b[0m\u001b[1;33m\u001b[0m\u001b[1;33m\u001b[0m\u001b[0m\n\u001b[1;32m-> 1097\u001b[1;33m         \u001b[0msolution\u001b[0m \u001b[1;33m=\u001b[0m \u001b[0m_solve_system\u001b[0m\u001b[1;33m(\u001b[0m\u001b[0mf\u001b[0m\u001b[1;33m,\u001b[0m \u001b[0msymbols\u001b[0m\u001b[1;33m,\u001b[0m \u001b[1;33m**\u001b[0m\u001b[0mflags\u001b[0m\u001b[1;33m)\u001b[0m\u001b[1;33m\u001b[0m\u001b[1;33m\u001b[0m\u001b[0m\n\u001b[0m\u001b[0;32m   1098\u001b[0m \u001b[1;33m\u001b[0m\u001b[0m\n\u001b[0;32m   1099\u001b[0m     \u001b[1;31m#\u001b[0m\u001b[1;33m\u001b[0m\u001b[1;33m\u001b[0m\u001b[1;33m\u001b[0m\u001b[0m\n",
      "\u001b[1;32mF:\\Anaconda\\lib\\site-packages\\sympy\\solvers\\solvers.py\u001b[0m in \u001b[0;36m_solve_system\u001b[1;34m(exprs, symbols, **flags)\u001b[0m\n\u001b[0;32m   1935\u001b[0m                 \u001b[1;32mfor\u001b[0m \u001b[0ms\u001b[0m \u001b[1;32min\u001b[0m \u001b[0mok_syms\u001b[0m\u001b[1;33m:\u001b[0m\u001b[1;33m\u001b[0m\u001b[1;33m\u001b[0m\u001b[0m\n\u001b[0;32m   1936\u001b[0m                     \u001b[1;32mtry\u001b[0m\u001b[1;33m:\u001b[0m\u001b[1;33m\u001b[0m\u001b[1;33m\u001b[0m\u001b[0m\n\u001b[1;32m-> 1937\u001b[1;33m                         \u001b[0msoln\u001b[0m \u001b[1;33m=\u001b[0m \u001b[0m_solve\u001b[0m\u001b[1;33m(\u001b[0m\u001b[0meq2\u001b[0m\u001b[1;33m,\u001b[0m \u001b[0ms\u001b[0m\u001b[1;33m,\u001b[0m \u001b[1;33m**\u001b[0m\u001b[0mflags\u001b[0m\u001b[1;33m)\u001b[0m\u001b[1;33m\u001b[0m\u001b[1;33m\u001b[0m\u001b[0m\n\u001b[0m\u001b[0;32m   1938\u001b[0m                     \u001b[1;32mexcept\u001b[0m \u001b[0mNotImplementedError\u001b[0m\u001b[1;33m:\u001b[0m\u001b[1;33m\u001b[0m\u001b[1;33m\u001b[0m\u001b[0m\n\u001b[0;32m   1939\u001b[0m                         \u001b[1;32mcontinue\u001b[0m\u001b[1;33m\u001b[0m\u001b[1;33m\u001b[0m\u001b[0m\n",
      "\u001b[1;32mF:\\Anaconda\\lib\\site-packages\\sympy\\solvers\\solvers.py\u001b[0m in \u001b[0;36m_solve\u001b[1;34m(f, *symbols, **flags)\u001b[0m\n\u001b[0;32m   1704\u001b[0m         \u001b[0mflags\u001b[0m\u001b[1;33m.\u001b[0m\u001b[0mpop\u001b[0m\u001b[1;33m(\u001b[0m\u001b[1;34m'tsolve'\u001b[0m\u001b[1;33m,\u001b[0m \u001b[1;32mNone\u001b[0m\u001b[1;33m)\u001b[0m  \u001b[1;31m# allow tsolve to be used on next pass\u001b[0m\u001b[1;33m\u001b[0m\u001b[1;33m\u001b[0m\u001b[0m\n\u001b[0;32m   1705\u001b[0m         \u001b[1;32mtry\u001b[0m\u001b[1;33m:\u001b[0m\u001b[1;33m\u001b[0m\u001b[1;33m\u001b[0m\u001b[0m\n\u001b[1;32m-> 1706\u001b[1;33m             \u001b[0msoln\u001b[0m \u001b[1;33m=\u001b[0m \u001b[0m_tsolve\u001b[0m\u001b[1;33m(\u001b[0m\u001b[0mf_num\u001b[0m\u001b[1;33m,\u001b[0m \u001b[0msymbol\u001b[0m\u001b[1;33m,\u001b[0m \u001b[1;33m**\u001b[0m\u001b[0mflags\u001b[0m\u001b[1;33m)\u001b[0m\u001b[1;33m\u001b[0m\u001b[1;33m\u001b[0m\u001b[0m\n\u001b[0m\u001b[0;32m   1707\u001b[0m             \u001b[1;32mif\u001b[0m \u001b[0msoln\u001b[0m \u001b[1;32mis\u001b[0m \u001b[1;32mnot\u001b[0m \u001b[1;32mNone\u001b[0m\u001b[1;33m:\u001b[0m\u001b[1;33m\u001b[0m\u001b[1;33m\u001b[0m\u001b[0m\n\u001b[0;32m   1708\u001b[0m                 \u001b[0mresult\u001b[0m \u001b[1;33m=\u001b[0m \u001b[0msoln\u001b[0m\u001b[1;33m\u001b[0m\u001b[1;33m\u001b[0m\u001b[0m\n",
      "\u001b[1;32mF:\\Anaconda\\lib\\site-packages\\sympy\\solvers\\solvers.py\u001b[0m in \u001b[0;36m_tsolve\u001b[1;34m(eq, sym, **flags)\u001b[0m\n\u001b[0;32m   2554\u001b[0m             \u001b[0mf\u001b[0m \u001b[1;33m=\u001b[0m \u001b[0mfactor\u001b[0m\u001b[1;33m(\u001b[0m\u001b[0mpowdenest\u001b[0m\u001b[1;33m(\u001b[0m\u001b[0mlhs\u001b[0m \u001b[1;33m-\u001b[0m \u001b[0mrhs\u001b[0m\u001b[1;33m)\u001b[0m\u001b[1;33m)\u001b[0m\u001b[1;33m\u001b[0m\u001b[1;33m\u001b[0m\u001b[0m\n\u001b[0;32m   2555\u001b[0m             \u001b[1;32mif\u001b[0m \u001b[0mf\u001b[0m\u001b[1;33m.\u001b[0m\u001b[0mis_Mul\u001b[0m\u001b[1;33m:\u001b[0m\u001b[1;33m\u001b[0m\u001b[1;33m\u001b[0m\u001b[0m\n\u001b[1;32m-> 2556\u001b[1;33m                 \u001b[1;32mreturn\u001b[0m \u001b[0m_solve\u001b[0m\u001b[1;33m(\u001b[0m\u001b[0mf\u001b[0m\u001b[1;33m,\u001b[0m \u001b[0msym\u001b[0m\u001b[1;33m,\u001b[0m \u001b[1;33m**\u001b[0m\u001b[0mflags\u001b[0m\u001b[1;33m)\u001b[0m\u001b[1;33m\u001b[0m\u001b[1;33m\u001b[0m\u001b[0m\n\u001b[0m\u001b[0;32m   2557\u001b[0m             \u001b[1;32mif\u001b[0m \u001b[0mrhs\u001b[0m\u001b[1;33m:\u001b[0m\u001b[1;33m\u001b[0m\u001b[1;33m\u001b[0m\u001b[0m\n\u001b[0;32m   2558\u001b[0m                 \u001b[0mf\u001b[0m \u001b[1;33m=\u001b[0m \u001b[0mlogcombine\u001b[0m\u001b[1;33m(\u001b[0m\u001b[0mlhs\u001b[0m\u001b[1;33m,\u001b[0m \u001b[0mforce\u001b[0m\u001b[1;33m=\u001b[0m\u001b[0mflags\u001b[0m\u001b[1;33m.\u001b[0m\u001b[0mget\u001b[0m\u001b[1;33m(\u001b[0m\u001b[1;34m'force'\u001b[0m\u001b[1;33m,\u001b[0m \u001b[1;32mTrue\u001b[0m\u001b[1;33m)\u001b[0m\u001b[1;33m)\u001b[0m\u001b[1;33m\u001b[0m\u001b[1;33m\u001b[0m\u001b[0m\n",
      "\u001b[1;32mF:\\Anaconda\\lib\\site-packages\\sympy\\solvers\\solvers.py\u001b[0m in \u001b[0;36m_solve\u001b[1;34m(f, *symbols, **flags)\u001b[0m\n\u001b[0;32m   1381\u001b[0m                 \u001b[0mresult\u001b[0m \u001b[1;33m=\u001b[0m \u001b[0mset\u001b[0m\u001b[1;33m(\u001b[0m\u001b[1;33m)\u001b[0m\u001b[1;33m\u001b[0m\u001b[1;33m\u001b[0m\u001b[0m\n\u001b[0;32m   1382\u001b[0m                 \u001b[1;32mbreak\u001b[0m\u001b[1;33m\u001b[0m\u001b[1;33m\u001b[0m\u001b[0m\n\u001b[1;32m-> 1383\u001b[1;33m             \u001b[0msoln\u001b[0m \u001b[1;33m=\u001b[0m \u001b[0m_solve\u001b[0m\u001b[1;33m(\u001b[0m\u001b[0mm\u001b[0m\u001b[1;33m,\u001b[0m \u001b[0msymbol\u001b[0m\u001b[1;33m,\u001b[0m \u001b[1;33m**\u001b[0m\u001b[0mflags\u001b[0m\u001b[1;33m)\u001b[0m\u001b[1;33m\u001b[0m\u001b[1;33m\u001b[0m\u001b[0m\n\u001b[0m\u001b[0;32m   1384\u001b[0m             \u001b[0mresult\u001b[0m\u001b[1;33m.\u001b[0m\u001b[0mupdate\u001b[0m\u001b[1;33m(\u001b[0m\u001b[0mset\u001b[0m\u001b[1;33m(\u001b[0m\u001b[0msoln\u001b[0m\u001b[1;33m)\u001b[0m\u001b[1;33m)\u001b[0m\u001b[1;33m\u001b[0m\u001b[1;33m\u001b[0m\u001b[0m\n\u001b[0;32m   1385\u001b[0m         \u001b[0mresult\u001b[0m \u001b[1;33m=\u001b[0m \u001b[0mlist\u001b[0m\u001b[1;33m(\u001b[0m\u001b[0mresult\u001b[0m\u001b[1;33m)\u001b[0m\u001b[1;33m\u001b[0m\u001b[1;33m\u001b[0m\u001b[0m\n",
      "\u001b[1;32mF:\\Anaconda\\lib\\site-packages\\sympy\\solvers\\solvers.py\u001b[0m in \u001b[0;36m_solve\u001b[1;34m(f, *symbols, **flags)\u001b[0m\n\u001b[0;32m   1678\u001b[0m         \u001b[1;32mif\u001b[0m \u001b[0mflags\u001b[0m\u001b[1;33m.\u001b[0m\u001b[0mpop\u001b[0m\u001b[1;33m(\u001b[0m\u001b[1;34m'_unrad'\u001b[0m\u001b[1;33m,\u001b[0m \u001b[1;32mTrue\u001b[0m\u001b[1;33m)\u001b[0m\u001b[1;33m:\u001b[0m\u001b[1;33m\u001b[0m\u001b[1;33m\u001b[0m\u001b[0m\n\u001b[0;32m   1679\u001b[0m             \u001b[1;32mtry\u001b[0m\u001b[1;33m:\u001b[0m\u001b[1;33m\u001b[0m\u001b[1;33m\u001b[0m\u001b[0m\n\u001b[1;32m-> 1680\u001b[1;33m                 \u001b[0mu\u001b[0m \u001b[1;33m=\u001b[0m \u001b[0munrad\u001b[0m\u001b[1;33m(\u001b[0m\u001b[0mf_num\u001b[0m\u001b[1;33m,\u001b[0m \u001b[0msymbol\u001b[0m\u001b[1;33m)\u001b[0m\u001b[1;33m\u001b[0m\u001b[1;33m\u001b[0m\u001b[0m\n\u001b[0m\u001b[0;32m   1681\u001b[0m             \u001b[1;32mexcept\u001b[0m \u001b[1;33m(\u001b[0m\u001b[0mValueError\u001b[0m\u001b[1;33m,\u001b[0m \u001b[0mNotImplementedError\u001b[0m\u001b[1;33m)\u001b[0m\u001b[1;33m:\u001b[0m\u001b[1;33m\u001b[0m\u001b[1;33m\u001b[0m\u001b[0m\n\u001b[0;32m   1682\u001b[0m                 \u001b[0mu\u001b[0m \u001b[1;33m=\u001b[0m \u001b[1;32mFalse\u001b[0m\u001b[1;33m\u001b[0m\u001b[1;33m\u001b[0m\u001b[0m\n",
      "\u001b[1;32mF:\\Anaconda\\lib\\site-packages\\sympy\\solvers\\solvers.py\u001b[0m in \u001b[0;36munrad\u001b[1;34m(eq, *syms, **flags)\u001b[0m\n\u001b[0;32m   3420\u001b[0m                     \u001b[1;32mfor\u001b[0m \u001b[0mx\u001b[0m \u001b[1;32min\u001b[0m \u001b[0msyms\u001b[0m\u001b[1;33m:\u001b[0m\u001b[1;33m\u001b[0m\u001b[1;33m\u001b[0m\u001b[0m\n\u001b[0;32m   3421\u001b[0m                         \u001b[1;32mtry\u001b[0m\u001b[1;33m:\u001b[0m\u001b[1;33m\u001b[0m\u001b[1;33m\u001b[0m\u001b[0m\n\u001b[1;32m-> 3422\u001b[1;33m                             \u001b[0msol\u001b[0m \u001b[1;33m=\u001b[0m \u001b[0m_solve\u001b[0m\u001b[1;33m(\u001b[0m\u001b[0mc\u001b[0m\u001b[1;33m,\u001b[0m \u001b[0mx\u001b[0m\u001b[1;33m,\u001b[0m \u001b[1;33m**\u001b[0m\u001b[0muflags\u001b[0m\u001b[1;33m)\u001b[0m\u001b[1;33m\u001b[0m\u001b[1;33m\u001b[0m\u001b[0m\n\u001b[0m\u001b[0;32m   3423\u001b[0m                             \u001b[1;32mif\u001b[0m \u001b[1;32mnot\u001b[0m \u001b[0msol\u001b[0m\u001b[1;33m:\u001b[0m\u001b[1;33m\u001b[0m\u001b[1;33m\u001b[0m\u001b[0m\n\u001b[0;32m   3424\u001b[0m                                 \u001b[1;32mraise\u001b[0m \u001b[0mNotImplementedError\u001b[0m\u001b[1;33m\u001b[0m\u001b[1;33m\u001b[0m\u001b[0m\n",
      "\u001b[1;32mF:\\Anaconda\\lib\\site-packages\\sympy\\solvers\\solvers.py\u001b[0m in \u001b[0;36m_solve\u001b[1;34m(f, *symbols, **flags)\u001b[0m\n\u001b[0;32m   1689\u001b[0m                 \u001b[1;32melse\u001b[0m\u001b[1;33m:\u001b[0m\u001b[1;33m\u001b[0m\u001b[1;33m\u001b[0m\u001b[0m\n\u001b[0;32m   1690\u001b[0m                     \u001b[1;32mtry\u001b[0m\u001b[1;33m:\u001b[0m\u001b[1;33m\u001b[0m\u001b[1;33m\u001b[0m\u001b[0m\n\u001b[1;32m-> 1691\u001b[1;33m                         \u001b[0mrv\u001b[0m \u001b[1;33m=\u001b[0m \u001b[0mset\u001b[0m\u001b[1;33m(\u001b[0m\u001b[0m_solve\u001b[0m\u001b[1;33m(\u001b[0m\u001b[0meq\u001b[0m\u001b[1;33m,\u001b[0m \u001b[0msymbol\u001b[0m\u001b[1;33m,\u001b[0m \u001b[1;33m**\u001b[0m\u001b[0mflags\u001b[0m\u001b[1;33m)\u001b[0m\u001b[1;33m)\u001b[0m\u001b[1;33m\u001b[0m\u001b[1;33m\u001b[0m\u001b[0m\n\u001b[0m\u001b[0;32m   1692\u001b[0m                     \u001b[1;32mexcept\u001b[0m \u001b[0mNotImplementedError\u001b[0m\u001b[1;33m:\u001b[0m\u001b[1;33m\u001b[0m\u001b[1;33m\u001b[0m\u001b[0m\n\u001b[0;32m   1693\u001b[0m                         \u001b[0mrv\u001b[0m \u001b[1;33m=\u001b[0m \u001b[1;32mNone\u001b[0m\u001b[1;33m\u001b[0m\u001b[1;33m\u001b[0m\u001b[0m\n",
      "\u001b[1;32mF:\\Anaconda\\lib\\site-packages\\sympy\\solvers\\solvers.py\u001b[0m in \u001b[0;36m_solve\u001b[1;34m(f, *symbols, **flags)\u001b[0m\n\u001b[0;32m   1436\u001b[0m         \u001b[1;31m# first see if it really depends on symbol and whether there\u001b[0m\u001b[1;33m\u001b[0m\u001b[1;33m\u001b[0m\u001b[1;33m\u001b[0m\u001b[0m\n\u001b[0;32m   1437\u001b[0m         \u001b[1;31m# is only a linear solution\u001b[0m\u001b[1;33m\u001b[0m\u001b[1;33m\u001b[0m\u001b[1;33m\u001b[0m\u001b[0m\n\u001b[1;32m-> 1438\u001b[1;33m         \u001b[0mf_num\u001b[0m\u001b[1;33m,\u001b[0m \u001b[0msol\u001b[0m \u001b[1;33m=\u001b[0m \u001b[0msolve_linear\u001b[0m\u001b[1;33m(\u001b[0m\u001b[0mf\u001b[0m\u001b[1;33m,\u001b[0m \u001b[0msymbols\u001b[0m\u001b[1;33m=\u001b[0m\u001b[0msymbols\u001b[0m\u001b[1;33m)\u001b[0m\u001b[1;33m\u001b[0m\u001b[1;33m\u001b[0m\u001b[0m\n\u001b[0m\u001b[0;32m   1439\u001b[0m         \u001b[1;32mif\u001b[0m \u001b[0mf_num\u001b[0m\u001b[1;33m.\u001b[0m\u001b[0mis_zero\u001b[0m \u001b[1;32mor\u001b[0m \u001b[0msol\u001b[0m \u001b[1;32mis\u001b[0m \u001b[0mS\u001b[0m\u001b[1;33m.\u001b[0m\u001b[0mNaN\u001b[0m\u001b[1;33m:\u001b[0m\u001b[1;33m\u001b[0m\u001b[1;33m\u001b[0m\u001b[0m\n\u001b[0;32m   1440\u001b[0m             \u001b[1;32mreturn\u001b[0m \u001b[1;33m[\u001b[0m\u001b[1;33m]\u001b[0m\u001b[1;33m\u001b[0m\u001b[1;33m\u001b[0m\u001b[0m\n",
      "\u001b[1;32mF:\\Anaconda\\lib\\site-packages\\sympy\\solvers\\solvers.py\u001b[0m in \u001b[0;36msolve_linear\u001b[1;34m(lhs, rhs, symbols, exclude)\u001b[0m\n\u001b[0;32m   2143\u001b[0m         \u001b[1;31m# of its free symbols\u001b[0m\u001b[1;33m\u001b[0m\u001b[1;33m\u001b[0m\u001b[1;33m\u001b[0m\u001b[0m\n\u001b[0;32m   2144\u001b[0m         \u001b[0mfree\u001b[0m \u001b[1;33m=\u001b[0m \u001b[0mdnewn_dxi\u001b[0m\u001b[1;33m.\u001b[0m\u001b[0mfree_symbols\u001b[0m\u001b[1;33m\u001b[0m\u001b[1;33m\u001b[0m\u001b[0m\n\u001b[1;32m-> 2145\u001b[1;33m         \u001b[1;32mif\u001b[0m \u001b[0mdnewn_dxi\u001b[0m \u001b[1;32mand\u001b[0m \u001b[1;33m(\u001b[0m\u001b[1;32mnot\u001b[0m \u001b[0mfree\u001b[0m \u001b[1;32mor\u001b[0m \u001b[0many\u001b[0m\u001b[1;33m(\u001b[0m\u001b[0mdnewn_dxi\u001b[0m\u001b[1;33m.\u001b[0m\u001b[0mdiff\u001b[0m\u001b[1;33m(\u001b[0m\u001b[0ms\u001b[0m\u001b[1;33m)\u001b[0m \u001b[1;32mfor\u001b[0m \u001b[0ms\u001b[0m \u001b[1;32min\u001b[0m \u001b[0mfree\u001b[0m\u001b[1;33m)\u001b[0m\u001b[1;33m)\u001b[0m\u001b[1;33m:\u001b[0m\u001b[1;33m\u001b[0m\u001b[1;33m\u001b[0m\u001b[0m\n\u001b[0m\u001b[0;32m   2146\u001b[0m             \u001b[0mall_zero\u001b[0m \u001b[1;33m=\u001b[0m \u001b[1;32mFalse\u001b[0m\u001b[1;33m\u001b[0m\u001b[1;33m\u001b[0m\u001b[0m\n\u001b[0;32m   2147\u001b[0m             \u001b[1;32mif\u001b[0m \u001b[0mdnewn_dxi\u001b[0m \u001b[1;32mis\u001b[0m \u001b[0mS\u001b[0m\u001b[1;33m.\u001b[0m\u001b[0mNaN\u001b[0m\u001b[1;33m:\u001b[0m\u001b[1;33m\u001b[0m\u001b[1;33m\u001b[0m\u001b[0m\n",
      "\u001b[1;32mF:\\Anaconda\\lib\\site-packages\\sympy\\solvers\\solvers.py\u001b[0m in \u001b[0;36m<genexpr>\u001b[1;34m(.0)\u001b[0m\n\u001b[0;32m   2143\u001b[0m         \u001b[1;31m# of its free symbols\u001b[0m\u001b[1;33m\u001b[0m\u001b[1;33m\u001b[0m\u001b[1;33m\u001b[0m\u001b[0m\n\u001b[0;32m   2144\u001b[0m         \u001b[0mfree\u001b[0m \u001b[1;33m=\u001b[0m \u001b[0mdnewn_dxi\u001b[0m\u001b[1;33m.\u001b[0m\u001b[0mfree_symbols\u001b[0m\u001b[1;33m\u001b[0m\u001b[1;33m\u001b[0m\u001b[0m\n\u001b[1;32m-> 2145\u001b[1;33m         \u001b[1;32mif\u001b[0m \u001b[0mdnewn_dxi\u001b[0m \u001b[1;32mand\u001b[0m \u001b[1;33m(\u001b[0m\u001b[1;32mnot\u001b[0m \u001b[0mfree\u001b[0m \u001b[1;32mor\u001b[0m \u001b[0many\u001b[0m\u001b[1;33m(\u001b[0m\u001b[0mdnewn_dxi\u001b[0m\u001b[1;33m.\u001b[0m\u001b[0mdiff\u001b[0m\u001b[1;33m(\u001b[0m\u001b[0ms\u001b[0m\u001b[1;33m)\u001b[0m \u001b[1;32mfor\u001b[0m \u001b[0ms\u001b[0m \u001b[1;32min\u001b[0m \u001b[0mfree\u001b[0m\u001b[1;33m)\u001b[0m\u001b[1;33m)\u001b[0m\u001b[1;33m:\u001b[0m\u001b[1;33m\u001b[0m\u001b[1;33m\u001b[0m\u001b[0m\n\u001b[0m\u001b[0;32m   2146\u001b[0m             \u001b[0mall_zero\u001b[0m \u001b[1;33m=\u001b[0m \u001b[1;32mFalse\u001b[0m\u001b[1;33m\u001b[0m\u001b[1;33m\u001b[0m\u001b[0m\n\u001b[0;32m   2147\u001b[0m             \u001b[1;32mif\u001b[0m \u001b[0mdnewn_dxi\u001b[0m \u001b[1;32mis\u001b[0m \u001b[0mS\u001b[0m\u001b[1;33m.\u001b[0m\u001b[0mNaN\u001b[0m\u001b[1;33m:\u001b[0m\u001b[1;33m\u001b[0m\u001b[1;33m\u001b[0m\u001b[0m\n",
      "\u001b[1;32mF:\\Anaconda\\lib\\site-packages\\sympy\\core\\expr.py\u001b[0m in \u001b[0;36mdiff\u001b[1;34m(self, *symbols, **assumptions)\u001b[0m\n\u001b[0;32m   3500\u001b[0m     \u001b[1;32mdef\u001b[0m \u001b[0mdiff\u001b[0m\u001b[1;33m(\u001b[0m\u001b[0mself\u001b[0m\u001b[1;33m,\u001b[0m \u001b[1;33m*\u001b[0m\u001b[0msymbols\u001b[0m\u001b[1;33m,\u001b[0m \u001b[1;33m**\u001b[0m\u001b[0massumptions\u001b[0m\u001b[1;33m)\u001b[0m\u001b[1;33m:\u001b[0m\u001b[1;33m\u001b[0m\u001b[1;33m\u001b[0m\u001b[0m\n\u001b[0;32m   3501\u001b[0m         \u001b[0massumptions\u001b[0m\u001b[1;33m.\u001b[0m\u001b[0msetdefault\u001b[0m\u001b[1;33m(\u001b[0m\u001b[1;34m\"evaluate\"\u001b[0m\u001b[1;33m,\u001b[0m \u001b[1;32mTrue\u001b[0m\u001b[1;33m)\u001b[0m\u001b[1;33m\u001b[0m\u001b[1;33m\u001b[0m\u001b[0m\n\u001b[1;32m-> 3502\u001b[1;33m         \u001b[1;32mreturn\u001b[0m \u001b[0m_derivative_dispatch\u001b[0m\u001b[1;33m(\u001b[0m\u001b[0mself\u001b[0m\u001b[1;33m,\u001b[0m \u001b[1;33m*\u001b[0m\u001b[0msymbols\u001b[0m\u001b[1;33m,\u001b[0m \u001b[1;33m**\u001b[0m\u001b[0massumptions\u001b[0m\u001b[1;33m)\u001b[0m\u001b[1;33m\u001b[0m\u001b[1;33m\u001b[0m\u001b[0m\n\u001b[0m\u001b[0;32m   3503\u001b[0m \u001b[1;33m\u001b[0m\u001b[0m\n\u001b[0;32m   3504\u001b[0m     \u001b[1;31m###########################################################################\u001b[0m\u001b[1;33m\u001b[0m\u001b[1;33m\u001b[0m\u001b[1;33m\u001b[0m\u001b[0m\n",
      "\u001b[1;32mF:\\Anaconda\\lib\\site-packages\\sympy\\core\\function.py\u001b[0m in \u001b[0;36m_derivative_dispatch\u001b[1;34m(expr, *variables, **kwargs)\u001b[0m\n\u001b[0;32m   1945\u001b[0m         \u001b[1;32mfrom\u001b[0m \u001b[0msympy\u001b[0m\u001b[1;33m.\u001b[0m\u001b[0mtensor\u001b[0m\u001b[1;33m.\u001b[0m\u001b[0marray\u001b[0m\u001b[1;33m.\u001b[0m\u001b[0marray_derivatives\u001b[0m \u001b[1;32mimport\u001b[0m \u001b[0mArrayDerivative\u001b[0m\u001b[1;33m\u001b[0m\u001b[1;33m\u001b[0m\u001b[0m\n\u001b[0;32m   1946\u001b[0m         \u001b[1;32mreturn\u001b[0m \u001b[0mArrayDerivative\u001b[0m\u001b[1;33m(\u001b[0m\u001b[0mexpr\u001b[0m\u001b[1;33m,\u001b[0m \u001b[1;33m*\u001b[0m\u001b[0mvariables\u001b[0m\u001b[1;33m,\u001b[0m \u001b[1;33m**\u001b[0m\u001b[0mkwargs\u001b[0m\u001b[1;33m)\u001b[0m\u001b[1;33m\u001b[0m\u001b[1;33m\u001b[0m\u001b[0m\n\u001b[1;32m-> 1947\u001b[1;33m     \u001b[1;32mreturn\u001b[0m \u001b[0mDerivative\u001b[0m\u001b[1;33m(\u001b[0m\u001b[0mexpr\u001b[0m\u001b[1;33m,\u001b[0m \u001b[1;33m*\u001b[0m\u001b[0mvariables\u001b[0m\u001b[1;33m,\u001b[0m \u001b[1;33m**\u001b[0m\u001b[0mkwargs\u001b[0m\u001b[1;33m)\u001b[0m\u001b[1;33m\u001b[0m\u001b[1;33m\u001b[0m\u001b[0m\n\u001b[0m\u001b[0;32m   1948\u001b[0m \u001b[1;33m\u001b[0m\u001b[0m\n\u001b[0;32m   1949\u001b[0m \u001b[1;33m\u001b[0m\u001b[0m\n",
      "\u001b[1;32mF:\\Anaconda\\lib\\site-packages\\sympy\\core\\function.py\u001b[0m in \u001b[0;36m__new__\u001b[1;34m(cls, expr, *variables, **kwargs)\u001b[0m\n\u001b[0;32m   1471\u001b[0m                     \u001b[0mexpr\u001b[0m \u001b[1;33m*=\u001b[0m \u001b[0mold_v\u001b[0m\u001b[1;33m.\u001b[0m\u001b[0mdiff\u001b[0m\u001b[1;33m(\u001b[0m\u001b[0mold_v\u001b[0m\u001b[1;33m)\u001b[0m\u001b[1;33m\u001b[0m\u001b[1;33m\u001b[0m\u001b[0m\n\u001b[0;32m   1472\u001b[0m \u001b[1;33m\u001b[0m\u001b[0m\n\u001b[1;32m-> 1473\u001b[1;33m             \u001b[0mobj\u001b[0m \u001b[1;33m=\u001b[0m \u001b[0mcls\u001b[0m\u001b[1;33m.\u001b[0m\u001b[0m_dispatch_eval_derivative_n_times\u001b[0m\u001b[1;33m(\u001b[0m\u001b[0mexpr\u001b[0m\u001b[1;33m,\u001b[0m \u001b[0mv\u001b[0m\u001b[1;33m,\u001b[0m \u001b[0mcount\u001b[0m\u001b[1;33m)\u001b[0m\u001b[1;33m\u001b[0m\u001b[1;33m\u001b[0m\u001b[0m\n\u001b[0m\u001b[0;32m   1474\u001b[0m             \u001b[1;32mif\u001b[0m \u001b[0mobj\u001b[0m \u001b[1;32mis\u001b[0m \u001b[1;32mnot\u001b[0m \u001b[1;32mNone\u001b[0m \u001b[1;32mand\u001b[0m \u001b[0mobj\u001b[0m\u001b[1;33m.\u001b[0m\u001b[0mis_zero\u001b[0m\u001b[1;33m:\u001b[0m\u001b[1;33m\u001b[0m\u001b[1;33m\u001b[0m\u001b[0m\n\u001b[0;32m   1475\u001b[0m                 \u001b[1;32mreturn\u001b[0m \u001b[0mobj\u001b[0m\u001b[1;33m\u001b[0m\u001b[1;33m\u001b[0m\u001b[0m\n",
      "\u001b[1;32mF:\\Anaconda\\lib\\site-packages\\sympy\\core\\function.py\u001b[0m in \u001b[0;36m_dispatch_eval_derivative_n_times\u001b[1;34m(cls, expr, v, count)\u001b[0m\n\u001b[0;32m   1934\u001b[0m         \u001b[1;31m# object, the default in `Basic` will call a loop over\u001b[0m\u001b[1;33m\u001b[0m\u001b[1;33m\u001b[0m\u001b[1;33m\u001b[0m\u001b[0m\n\u001b[0;32m   1935\u001b[0m         \u001b[1;31m# `_eval_derivative`:\u001b[0m\u001b[1;33m\u001b[0m\u001b[1;33m\u001b[0m\u001b[1;33m\u001b[0m\u001b[0m\n\u001b[1;32m-> 1936\u001b[1;33m         \u001b[1;32mreturn\u001b[0m \u001b[0mexpr\u001b[0m\u001b[1;33m.\u001b[0m\u001b[0m_eval_derivative_n_times\u001b[0m\u001b[1;33m(\u001b[0m\u001b[0mv\u001b[0m\u001b[1;33m,\u001b[0m \u001b[0mcount\u001b[0m\u001b[1;33m)\u001b[0m\u001b[1;33m\u001b[0m\u001b[1;33m\u001b[0m\u001b[0m\n\u001b[0m\u001b[0;32m   1937\u001b[0m \u001b[1;33m\u001b[0m\u001b[0m\n\u001b[0;32m   1938\u001b[0m \u001b[1;33m\u001b[0m\u001b[0m\n",
      "\u001b[1;32mF:\\Anaconda\\lib\\site-packages\\sympy\\core\\basic.py\u001b[0m in \u001b[0;36m_eval_derivative_n_times\u001b[1;34m(self, s, n)\u001b[0m\n\u001b[0;32m   1712\u001b[0m             \u001b[0mobj\u001b[0m \u001b[1;33m=\u001b[0m \u001b[0mself\u001b[0m\u001b[1;33m\u001b[0m\u001b[1;33m\u001b[0m\u001b[0m\n\u001b[0;32m   1713\u001b[0m             \u001b[1;32mfor\u001b[0m \u001b[0mi\u001b[0m \u001b[1;32min\u001b[0m \u001b[0mrange\u001b[0m\u001b[1;33m(\u001b[0m\u001b[0mn\u001b[0m\u001b[1;33m)\u001b[0m\u001b[1;33m:\u001b[0m\u001b[1;33m\u001b[0m\u001b[1;33m\u001b[0m\u001b[0m\n\u001b[1;32m-> 1714\u001b[1;33m                 \u001b[0mobj2\u001b[0m \u001b[1;33m=\u001b[0m \u001b[0mobj\u001b[0m\u001b[1;33m.\u001b[0m\u001b[0m_eval_derivative\u001b[0m\u001b[1;33m(\u001b[0m\u001b[0ms\u001b[0m\u001b[1;33m)\u001b[0m\u001b[1;33m\u001b[0m\u001b[1;33m\u001b[0m\u001b[0m\n\u001b[0m\u001b[0;32m   1715\u001b[0m                 \u001b[1;32mif\u001b[0m \u001b[0mobj\u001b[0m \u001b[1;33m==\u001b[0m \u001b[0mobj2\u001b[0m \u001b[1;32mor\u001b[0m \u001b[0mobj2\u001b[0m \u001b[1;32mis\u001b[0m \u001b[1;32mNone\u001b[0m\u001b[1;33m:\u001b[0m\u001b[1;33m\u001b[0m\u001b[1;33m\u001b[0m\u001b[0m\n\u001b[0;32m   1716\u001b[0m                     \u001b[1;32mbreak\u001b[0m\u001b[1;33m\u001b[0m\u001b[1;33m\u001b[0m\u001b[0m\n",
      "\u001b[1;32mF:\\Anaconda\\lib\\site-packages\\sympy\\core\\cache.py\u001b[0m in \u001b[0;36mwrapper\u001b[1;34m(*args, **kwargs)\u001b[0m\n\u001b[0;32m     70\u001b[0m         \u001b[1;32mdef\u001b[0m \u001b[0mwrapper\u001b[0m\u001b[1;33m(\u001b[0m\u001b[1;33m*\u001b[0m\u001b[0margs\u001b[0m\u001b[1;33m,\u001b[0m \u001b[1;33m**\u001b[0m\u001b[0mkwargs\u001b[0m\u001b[1;33m)\u001b[0m\u001b[1;33m:\u001b[0m\u001b[1;33m\u001b[0m\u001b[1;33m\u001b[0m\u001b[0m\n\u001b[0;32m     71\u001b[0m             \u001b[1;32mtry\u001b[0m\u001b[1;33m:\u001b[0m\u001b[1;33m\u001b[0m\u001b[1;33m\u001b[0m\u001b[0m\n\u001b[1;32m---> 72\u001b[1;33m                 \u001b[0mretval\u001b[0m \u001b[1;33m=\u001b[0m \u001b[0mcfunc\u001b[0m\u001b[1;33m(\u001b[0m\u001b[1;33m*\u001b[0m\u001b[0margs\u001b[0m\u001b[1;33m,\u001b[0m \u001b[1;33m**\u001b[0m\u001b[0mkwargs\u001b[0m\u001b[1;33m)\u001b[0m\u001b[1;33m\u001b[0m\u001b[1;33m\u001b[0m\u001b[0m\n\u001b[0m\u001b[0;32m     73\u001b[0m             \u001b[1;32mexcept\u001b[0m \u001b[0mTypeError\u001b[0m\u001b[1;33m:\u001b[0m\u001b[1;33m\u001b[0m\u001b[1;33m\u001b[0m\u001b[0m\n\u001b[0;32m     74\u001b[0m                 \u001b[0mretval\u001b[0m \u001b[1;33m=\u001b[0m \u001b[0mfunc\u001b[0m\u001b[1;33m(\u001b[0m\u001b[1;33m*\u001b[0m\u001b[0margs\u001b[0m\u001b[1;33m,\u001b[0m \u001b[1;33m**\u001b[0m\u001b[0mkwargs\u001b[0m\u001b[1;33m)\u001b[0m\u001b[1;33m\u001b[0m\u001b[1;33m\u001b[0m\u001b[0m\n",
      "\u001b[1;32mF:\\Anaconda\\lib\\site-packages\\sympy\\core\\add.py\u001b[0m in \u001b[0;36m_eval_derivative\u001b[1;34m(self, s)\u001b[0m\n\u001b[0;32m    496\u001b[0m     \u001b[1;33m@\u001b[0m\u001b[0mcacheit\u001b[0m\u001b[1;33m\u001b[0m\u001b[1;33m\u001b[0m\u001b[0m\n\u001b[0;32m    497\u001b[0m     \u001b[1;32mdef\u001b[0m \u001b[0m_eval_derivative\u001b[0m\u001b[1;33m(\u001b[0m\u001b[0mself\u001b[0m\u001b[1;33m,\u001b[0m \u001b[0ms\u001b[0m\u001b[1;33m)\u001b[0m\u001b[1;33m:\u001b[0m\u001b[1;33m\u001b[0m\u001b[1;33m\u001b[0m\u001b[0m\n\u001b[1;32m--> 498\u001b[1;33m         \u001b[1;32mreturn\u001b[0m \u001b[0mself\u001b[0m\u001b[1;33m.\u001b[0m\u001b[0mfunc\u001b[0m\u001b[1;33m(\u001b[0m\u001b[1;33m*\u001b[0m\u001b[1;33m[\u001b[0m\u001b[0ma\u001b[0m\u001b[1;33m.\u001b[0m\u001b[0mdiff\u001b[0m\u001b[1;33m(\u001b[0m\u001b[0ms\u001b[0m\u001b[1;33m)\u001b[0m \u001b[1;32mfor\u001b[0m \u001b[0ma\u001b[0m \u001b[1;32min\u001b[0m \u001b[0mself\u001b[0m\u001b[1;33m.\u001b[0m\u001b[0margs\u001b[0m\u001b[1;33m]\u001b[0m\u001b[1;33m)\u001b[0m\u001b[1;33m\u001b[0m\u001b[1;33m\u001b[0m\u001b[0m\n\u001b[0m\u001b[0;32m    499\u001b[0m \u001b[1;33m\u001b[0m\u001b[0m\n\u001b[0;32m    500\u001b[0m     \u001b[1;32mdef\u001b[0m \u001b[0m_eval_nseries\u001b[0m\u001b[1;33m(\u001b[0m\u001b[0mself\u001b[0m\u001b[1;33m,\u001b[0m \u001b[0mx\u001b[0m\u001b[1;33m,\u001b[0m \u001b[0mn\u001b[0m\u001b[1;33m,\u001b[0m \u001b[0mlogx\u001b[0m\u001b[1;33m,\u001b[0m \u001b[0mcdir\u001b[0m\u001b[1;33m=\u001b[0m\u001b[1;36m0\u001b[0m\u001b[1;33m)\u001b[0m\u001b[1;33m:\u001b[0m\u001b[1;33m\u001b[0m\u001b[1;33m\u001b[0m\u001b[0m\n",
      "\u001b[1;32mF:\\Anaconda\\lib\\site-packages\\sympy\\core\\add.py\u001b[0m in \u001b[0;36m<listcomp>\u001b[1;34m(.0)\u001b[0m\n\u001b[0;32m    496\u001b[0m     \u001b[1;33m@\u001b[0m\u001b[0mcacheit\u001b[0m\u001b[1;33m\u001b[0m\u001b[1;33m\u001b[0m\u001b[0m\n\u001b[0;32m    497\u001b[0m     \u001b[1;32mdef\u001b[0m \u001b[0m_eval_derivative\u001b[0m\u001b[1;33m(\u001b[0m\u001b[0mself\u001b[0m\u001b[1;33m,\u001b[0m \u001b[0ms\u001b[0m\u001b[1;33m)\u001b[0m\u001b[1;33m:\u001b[0m\u001b[1;33m\u001b[0m\u001b[1;33m\u001b[0m\u001b[0m\n\u001b[1;32m--> 498\u001b[1;33m         \u001b[1;32mreturn\u001b[0m \u001b[0mself\u001b[0m\u001b[1;33m.\u001b[0m\u001b[0mfunc\u001b[0m\u001b[1;33m(\u001b[0m\u001b[1;33m*\u001b[0m\u001b[1;33m[\u001b[0m\u001b[0ma\u001b[0m\u001b[1;33m.\u001b[0m\u001b[0mdiff\u001b[0m\u001b[1;33m(\u001b[0m\u001b[0ms\u001b[0m\u001b[1;33m)\u001b[0m \u001b[1;32mfor\u001b[0m \u001b[0ma\u001b[0m \u001b[1;32min\u001b[0m \u001b[0mself\u001b[0m\u001b[1;33m.\u001b[0m\u001b[0margs\u001b[0m\u001b[1;33m]\u001b[0m\u001b[1;33m)\u001b[0m\u001b[1;33m\u001b[0m\u001b[1;33m\u001b[0m\u001b[0m\n\u001b[0m\u001b[0;32m    499\u001b[0m \u001b[1;33m\u001b[0m\u001b[0m\n\u001b[0;32m    500\u001b[0m     \u001b[1;32mdef\u001b[0m \u001b[0m_eval_nseries\u001b[0m\u001b[1;33m(\u001b[0m\u001b[0mself\u001b[0m\u001b[1;33m,\u001b[0m \u001b[0mx\u001b[0m\u001b[1;33m,\u001b[0m \u001b[0mn\u001b[0m\u001b[1;33m,\u001b[0m \u001b[0mlogx\u001b[0m\u001b[1;33m,\u001b[0m \u001b[0mcdir\u001b[0m\u001b[1;33m=\u001b[0m\u001b[1;36m0\u001b[0m\u001b[1;33m)\u001b[0m\u001b[1;33m:\u001b[0m\u001b[1;33m\u001b[0m\u001b[1;33m\u001b[0m\u001b[0m\n",
      "\u001b[1;32mF:\\Anaconda\\lib\\site-packages\\sympy\\core\\expr.py\u001b[0m in \u001b[0;36mdiff\u001b[1;34m(self, *symbols, **assumptions)\u001b[0m\n\u001b[0;32m   3500\u001b[0m     \u001b[1;32mdef\u001b[0m \u001b[0mdiff\u001b[0m\u001b[1;33m(\u001b[0m\u001b[0mself\u001b[0m\u001b[1;33m,\u001b[0m \u001b[1;33m*\u001b[0m\u001b[0msymbols\u001b[0m\u001b[1;33m,\u001b[0m \u001b[1;33m**\u001b[0m\u001b[0massumptions\u001b[0m\u001b[1;33m)\u001b[0m\u001b[1;33m:\u001b[0m\u001b[1;33m\u001b[0m\u001b[1;33m\u001b[0m\u001b[0m\n\u001b[0;32m   3501\u001b[0m         \u001b[0massumptions\u001b[0m\u001b[1;33m.\u001b[0m\u001b[0msetdefault\u001b[0m\u001b[1;33m(\u001b[0m\u001b[1;34m\"evaluate\"\u001b[0m\u001b[1;33m,\u001b[0m \u001b[1;32mTrue\u001b[0m\u001b[1;33m)\u001b[0m\u001b[1;33m\u001b[0m\u001b[1;33m\u001b[0m\u001b[0m\n\u001b[1;32m-> 3502\u001b[1;33m         \u001b[1;32mreturn\u001b[0m \u001b[0m_derivative_dispatch\u001b[0m\u001b[1;33m(\u001b[0m\u001b[0mself\u001b[0m\u001b[1;33m,\u001b[0m \u001b[1;33m*\u001b[0m\u001b[0msymbols\u001b[0m\u001b[1;33m,\u001b[0m \u001b[1;33m**\u001b[0m\u001b[0massumptions\u001b[0m\u001b[1;33m)\u001b[0m\u001b[1;33m\u001b[0m\u001b[1;33m\u001b[0m\u001b[0m\n\u001b[0m\u001b[0;32m   3503\u001b[0m \u001b[1;33m\u001b[0m\u001b[0m\n\u001b[0;32m   3504\u001b[0m     \u001b[1;31m###########################################################################\u001b[0m\u001b[1;33m\u001b[0m\u001b[1;33m\u001b[0m\u001b[1;33m\u001b[0m\u001b[0m\n",
      "\u001b[1;32mF:\\Anaconda\\lib\\site-packages\\sympy\\core\\function.py\u001b[0m in \u001b[0;36m_derivative_dispatch\u001b[1;34m(expr, *variables, **kwargs)\u001b[0m\n\u001b[0;32m   1945\u001b[0m         \u001b[1;32mfrom\u001b[0m \u001b[0msympy\u001b[0m\u001b[1;33m.\u001b[0m\u001b[0mtensor\u001b[0m\u001b[1;33m.\u001b[0m\u001b[0marray\u001b[0m\u001b[1;33m.\u001b[0m\u001b[0marray_derivatives\u001b[0m \u001b[1;32mimport\u001b[0m \u001b[0mArrayDerivative\u001b[0m\u001b[1;33m\u001b[0m\u001b[1;33m\u001b[0m\u001b[0m\n\u001b[0;32m   1946\u001b[0m         \u001b[1;32mreturn\u001b[0m \u001b[0mArrayDerivative\u001b[0m\u001b[1;33m(\u001b[0m\u001b[0mexpr\u001b[0m\u001b[1;33m,\u001b[0m \u001b[1;33m*\u001b[0m\u001b[0mvariables\u001b[0m\u001b[1;33m,\u001b[0m \u001b[1;33m**\u001b[0m\u001b[0mkwargs\u001b[0m\u001b[1;33m)\u001b[0m\u001b[1;33m\u001b[0m\u001b[1;33m\u001b[0m\u001b[0m\n\u001b[1;32m-> 1947\u001b[1;33m     \u001b[1;32mreturn\u001b[0m \u001b[0mDerivative\u001b[0m\u001b[1;33m(\u001b[0m\u001b[0mexpr\u001b[0m\u001b[1;33m,\u001b[0m \u001b[1;33m*\u001b[0m\u001b[0mvariables\u001b[0m\u001b[1;33m,\u001b[0m \u001b[1;33m**\u001b[0m\u001b[0mkwargs\u001b[0m\u001b[1;33m)\u001b[0m\u001b[1;33m\u001b[0m\u001b[1;33m\u001b[0m\u001b[0m\n\u001b[0m\u001b[0;32m   1948\u001b[0m \u001b[1;33m\u001b[0m\u001b[0m\n\u001b[0;32m   1949\u001b[0m \u001b[1;33m\u001b[0m\u001b[0m\n",
      "\u001b[1;32mF:\\Anaconda\\lib\\site-packages\\sympy\\core\\function.py\u001b[0m in \u001b[0;36m__new__\u001b[1;34m(cls, expr, *variables, **kwargs)\u001b[0m\n\u001b[0;32m   1471\u001b[0m                     \u001b[0mexpr\u001b[0m \u001b[1;33m*=\u001b[0m \u001b[0mold_v\u001b[0m\u001b[1;33m.\u001b[0m\u001b[0mdiff\u001b[0m\u001b[1;33m(\u001b[0m\u001b[0mold_v\u001b[0m\u001b[1;33m)\u001b[0m\u001b[1;33m\u001b[0m\u001b[1;33m\u001b[0m\u001b[0m\n\u001b[0;32m   1472\u001b[0m \u001b[1;33m\u001b[0m\u001b[0m\n\u001b[1;32m-> 1473\u001b[1;33m             \u001b[0mobj\u001b[0m \u001b[1;33m=\u001b[0m \u001b[0mcls\u001b[0m\u001b[1;33m.\u001b[0m\u001b[0m_dispatch_eval_derivative_n_times\u001b[0m\u001b[1;33m(\u001b[0m\u001b[0mexpr\u001b[0m\u001b[1;33m,\u001b[0m \u001b[0mv\u001b[0m\u001b[1;33m,\u001b[0m \u001b[0mcount\u001b[0m\u001b[1;33m)\u001b[0m\u001b[1;33m\u001b[0m\u001b[1;33m\u001b[0m\u001b[0m\n\u001b[0m\u001b[0;32m   1474\u001b[0m             \u001b[1;32mif\u001b[0m \u001b[0mobj\u001b[0m \u001b[1;32mis\u001b[0m \u001b[1;32mnot\u001b[0m \u001b[1;32mNone\u001b[0m \u001b[1;32mand\u001b[0m \u001b[0mobj\u001b[0m\u001b[1;33m.\u001b[0m\u001b[0mis_zero\u001b[0m\u001b[1;33m:\u001b[0m\u001b[1;33m\u001b[0m\u001b[1;33m\u001b[0m\u001b[0m\n\u001b[0;32m   1475\u001b[0m                 \u001b[1;32mreturn\u001b[0m \u001b[0mobj\u001b[0m\u001b[1;33m\u001b[0m\u001b[1;33m\u001b[0m\u001b[0m\n",
      "\u001b[1;32mF:\\Anaconda\\lib\\site-packages\\sympy\\core\\function.py\u001b[0m in \u001b[0;36m_dispatch_eval_derivative_n_times\u001b[1;34m(cls, expr, v, count)\u001b[0m\n\u001b[0;32m   1934\u001b[0m         \u001b[1;31m# object, the default in `Basic` will call a loop over\u001b[0m\u001b[1;33m\u001b[0m\u001b[1;33m\u001b[0m\u001b[1;33m\u001b[0m\u001b[0m\n\u001b[0;32m   1935\u001b[0m         \u001b[1;31m# `_eval_derivative`:\u001b[0m\u001b[1;33m\u001b[0m\u001b[1;33m\u001b[0m\u001b[1;33m\u001b[0m\u001b[0m\n\u001b[1;32m-> 1936\u001b[1;33m         \u001b[1;32mreturn\u001b[0m \u001b[0mexpr\u001b[0m\u001b[1;33m.\u001b[0m\u001b[0m_eval_derivative_n_times\u001b[0m\u001b[1;33m(\u001b[0m\u001b[0mv\u001b[0m\u001b[1;33m,\u001b[0m \u001b[0mcount\u001b[0m\u001b[1;33m)\u001b[0m\u001b[1;33m\u001b[0m\u001b[1;33m\u001b[0m\u001b[0m\n\u001b[0m\u001b[0;32m   1937\u001b[0m \u001b[1;33m\u001b[0m\u001b[0m\n\u001b[0;32m   1938\u001b[0m \u001b[1;33m\u001b[0m\u001b[0m\n",
      "\u001b[1;32mF:\\Anaconda\\lib\\site-packages\\sympy\\core\\cache.py\u001b[0m in \u001b[0;36mwrapper\u001b[1;34m(*args, **kwargs)\u001b[0m\n\u001b[0;32m     70\u001b[0m         \u001b[1;32mdef\u001b[0m \u001b[0mwrapper\u001b[0m\u001b[1;33m(\u001b[0m\u001b[1;33m*\u001b[0m\u001b[0margs\u001b[0m\u001b[1;33m,\u001b[0m \u001b[1;33m**\u001b[0m\u001b[0mkwargs\u001b[0m\u001b[1;33m)\u001b[0m\u001b[1;33m:\u001b[0m\u001b[1;33m\u001b[0m\u001b[1;33m\u001b[0m\u001b[0m\n\u001b[0;32m     71\u001b[0m             \u001b[1;32mtry\u001b[0m\u001b[1;33m:\u001b[0m\u001b[1;33m\u001b[0m\u001b[1;33m\u001b[0m\u001b[0m\n\u001b[1;32m---> 72\u001b[1;33m                 \u001b[0mretval\u001b[0m \u001b[1;33m=\u001b[0m \u001b[0mcfunc\u001b[0m\u001b[1;33m(\u001b[0m\u001b[1;33m*\u001b[0m\u001b[0margs\u001b[0m\u001b[1;33m,\u001b[0m \u001b[1;33m**\u001b[0m\u001b[0mkwargs\u001b[0m\u001b[1;33m)\u001b[0m\u001b[1;33m\u001b[0m\u001b[1;33m\u001b[0m\u001b[0m\n\u001b[0m\u001b[0;32m     73\u001b[0m             \u001b[1;32mexcept\u001b[0m \u001b[0mTypeError\u001b[0m\u001b[1;33m:\u001b[0m\u001b[1;33m\u001b[0m\u001b[1;33m\u001b[0m\u001b[0m\n\u001b[0;32m     74\u001b[0m                 \u001b[0mretval\u001b[0m \u001b[1;33m=\u001b[0m \u001b[0mfunc\u001b[0m\u001b[1;33m(\u001b[0m\u001b[1;33m*\u001b[0m\u001b[0margs\u001b[0m\u001b[1;33m,\u001b[0m \u001b[1;33m**\u001b[0m\u001b[0mkwargs\u001b[0m\u001b[1;33m)\u001b[0m\u001b[1;33m\u001b[0m\u001b[1;33m\u001b[0m\u001b[0m\n",
      "\u001b[1;32mF:\\Anaconda\\lib\\site-packages\\sympy\\core\\mul.py\u001b[0m in \u001b[0;36m_eval_derivative_n_times\u001b[1;34m(self, s, n)\u001b[0m\n\u001b[0;32m    998\u001b[0m             \u001b[0mterms\u001b[0m \u001b[1;33m=\u001b[0m \u001b[1;33m[\u001b[0m\u001b[1;33m]\u001b[0m\u001b[1;33m\u001b[0m\u001b[1;33m\u001b[0m\u001b[0m\n\u001b[0;32m    999\u001b[0m             \u001b[1;32mfor\u001b[0m \u001b[0mkvals\u001b[0m\u001b[1;33m,\u001b[0m \u001b[0mc\u001b[0m \u001b[1;32min\u001b[0m \u001b[0mmultinomial_coefficients_iterator\u001b[0m\u001b[1;33m(\u001b[0m\u001b[0mm\u001b[0m\u001b[1;33m,\u001b[0m \u001b[0mn\u001b[0m\u001b[1;33m)\u001b[0m\u001b[1;33m:\u001b[0m\u001b[1;33m\u001b[0m\u001b[1;33m\u001b[0m\u001b[0m\n\u001b[1;32m-> 1000\u001b[1;33m                 \u001b[0mp\u001b[0m \u001b[1;33m=\u001b[0m \u001b[0mprod\u001b[0m\u001b[1;33m(\u001b[0m\u001b[1;33m[\u001b[0m\u001b[0marg\u001b[0m\u001b[1;33m.\u001b[0m\u001b[0mdiff\u001b[0m\u001b[1;33m(\u001b[0m\u001b[1;33m(\u001b[0m\u001b[0ms\u001b[0m\u001b[1;33m,\u001b[0m \u001b[0mk\u001b[0m\u001b[1;33m)\u001b[0m\u001b[1;33m)\u001b[0m \u001b[1;32mfor\u001b[0m \u001b[0mk\u001b[0m\u001b[1;33m,\u001b[0m \u001b[0marg\u001b[0m \u001b[1;32min\u001b[0m \u001b[0mzip\u001b[0m\u001b[1;33m(\u001b[0m\u001b[0mkvals\u001b[0m\u001b[1;33m,\u001b[0m \u001b[0margs\u001b[0m\u001b[1;33m)\u001b[0m\u001b[1;33m]\u001b[0m\u001b[1;33m)\u001b[0m\u001b[1;33m\u001b[0m\u001b[1;33m\u001b[0m\u001b[0m\n\u001b[0m\u001b[0;32m   1001\u001b[0m                 \u001b[0mterms\u001b[0m\u001b[1;33m.\u001b[0m\u001b[0mappend\u001b[0m\u001b[1;33m(\u001b[0m\u001b[0mc\u001b[0m \u001b[1;33m*\u001b[0m \u001b[0mp\u001b[0m\u001b[1;33m)\u001b[0m\u001b[1;33m\u001b[0m\u001b[1;33m\u001b[0m\u001b[0m\n\u001b[0;32m   1002\u001b[0m             \u001b[1;32mreturn\u001b[0m \u001b[0mAdd\u001b[0m\u001b[1;33m(\u001b[0m\u001b[1;33m*\u001b[0m\u001b[0mterms\u001b[0m\u001b[1;33m)\u001b[0m\u001b[1;33m\u001b[0m\u001b[1;33m\u001b[0m\u001b[0m\n",
      "\u001b[1;32mF:\\Anaconda\\lib\\site-packages\\sympy\\core\\mul.py\u001b[0m in \u001b[0;36m<listcomp>\u001b[1;34m(.0)\u001b[0m\n\u001b[0;32m    998\u001b[0m             \u001b[0mterms\u001b[0m \u001b[1;33m=\u001b[0m \u001b[1;33m[\u001b[0m\u001b[1;33m]\u001b[0m\u001b[1;33m\u001b[0m\u001b[1;33m\u001b[0m\u001b[0m\n\u001b[0;32m    999\u001b[0m             \u001b[1;32mfor\u001b[0m \u001b[0mkvals\u001b[0m\u001b[1;33m,\u001b[0m \u001b[0mc\u001b[0m \u001b[1;32min\u001b[0m \u001b[0mmultinomial_coefficients_iterator\u001b[0m\u001b[1;33m(\u001b[0m\u001b[0mm\u001b[0m\u001b[1;33m,\u001b[0m \u001b[0mn\u001b[0m\u001b[1;33m)\u001b[0m\u001b[1;33m:\u001b[0m\u001b[1;33m\u001b[0m\u001b[1;33m\u001b[0m\u001b[0m\n\u001b[1;32m-> 1000\u001b[1;33m                 \u001b[0mp\u001b[0m \u001b[1;33m=\u001b[0m \u001b[0mprod\u001b[0m\u001b[1;33m(\u001b[0m\u001b[1;33m[\u001b[0m\u001b[0marg\u001b[0m\u001b[1;33m.\u001b[0m\u001b[0mdiff\u001b[0m\u001b[1;33m(\u001b[0m\u001b[1;33m(\u001b[0m\u001b[0ms\u001b[0m\u001b[1;33m,\u001b[0m \u001b[0mk\u001b[0m\u001b[1;33m)\u001b[0m\u001b[1;33m)\u001b[0m \u001b[1;32mfor\u001b[0m \u001b[0mk\u001b[0m\u001b[1;33m,\u001b[0m \u001b[0marg\u001b[0m \u001b[1;32min\u001b[0m \u001b[0mzip\u001b[0m\u001b[1;33m(\u001b[0m\u001b[0mkvals\u001b[0m\u001b[1;33m,\u001b[0m \u001b[0margs\u001b[0m\u001b[1;33m)\u001b[0m\u001b[1;33m]\u001b[0m\u001b[1;33m)\u001b[0m\u001b[1;33m\u001b[0m\u001b[1;33m\u001b[0m\u001b[0m\n\u001b[0m\u001b[0;32m   1001\u001b[0m                 \u001b[0mterms\u001b[0m\u001b[1;33m.\u001b[0m\u001b[0mappend\u001b[0m\u001b[1;33m(\u001b[0m\u001b[0mc\u001b[0m \u001b[1;33m*\u001b[0m \u001b[0mp\u001b[0m\u001b[1;33m)\u001b[0m\u001b[1;33m\u001b[0m\u001b[1;33m\u001b[0m\u001b[0m\n\u001b[0;32m   1002\u001b[0m             \u001b[1;32mreturn\u001b[0m \u001b[0mAdd\u001b[0m\u001b[1;33m(\u001b[0m\u001b[1;33m*\u001b[0m\u001b[0mterms\u001b[0m\u001b[1;33m)\u001b[0m\u001b[1;33m\u001b[0m\u001b[1;33m\u001b[0m\u001b[0m\n",
      "\u001b[1;32mF:\\Anaconda\\lib\\site-packages\\sympy\\core\\expr.py\u001b[0m in \u001b[0;36mdiff\u001b[1;34m(self, *symbols, **assumptions)\u001b[0m\n\u001b[0;32m   3500\u001b[0m     \u001b[1;32mdef\u001b[0m \u001b[0mdiff\u001b[0m\u001b[1;33m(\u001b[0m\u001b[0mself\u001b[0m\u001b[1;33m,\u001b[0m \u001b[1;33m*\u001b[0m\u001b[0msymbols\u001b[0m\u001b[1;33m,\u001b[0m \u001b[1;33m**\u001b[0m\u001b[0massumptions\u001b[0m\u001b[1;33m)\u001b[0m\u001b[1;33m:\u001b[0m\u001b[1;33m\u001b[0m\u001b[1;33m\u001b[0m\u001b[0m\n\u001b[0;32m   3501\u001b[0m         \u001b[0massumptions\u001b[0m\u001b[1;33m.\u001b[0m\u001b[0msetdefault\u001b[0m\u001b[1;33m(\u001b[0m\u001b[1;34m\"evaluate\"\u001b[0m\u001b[1;33m,\u001b[0m \u001b[1;32mTrue\u001b[0m\u001b[1;33m)\u001b[0m\u001b[1;33m\u001b[0m\u001b[1;33m\u001b[0m\u001b[0m\n\u001b[1;32m-> 3502\u001b[1;33m         \u001b[1;32mreturn\u001b[0m \u001b[0m_derivative_dispatch\u001b[0m\u001b[1;33m(\u001b[0m\u001b[0mself\u001b[0m\u001b[1;33m,\u001b[0m \u001b[1;33m*\u001b[0m\u001b[0msymbols\u001b[0m\u001b[1;33m,\u001b[0m \u001b[1;33m**\u001b[0m\u001b[0massumptions\u001b[0m\u001b[1;33m)\u001b[0m\u001b[1;33m\u001b[0m\u001b[1;33m\u001b[0m\u001b[0m\n\u001b[0m\u001b[0;32m   3503\u001b[0m \u001b[1;33m\u001b[0m\u001b[0m\n\u001b[0;32m   3504\u001b[0m     \u001b[1;31m###########################################################################\u001b[0m\u001b[1;33m\u001b[0m\u001b[1;33m\u001b[0m\u001b[1;33m\u001b[0m\u001b[0m\n",
      "\u001b[1;32mF:\\Anaconda\\lib\\site-packages\\sympy\\core\\function.py\u001b[0m in \u001b[0;36m_derivative_dispatch\u001b[1;34m(expr, *variables, **kwargs)\u001b[0m\n\u001b[0;32m   1945\u001b[0m         \u001b[1;32mfrom\u001b[0m \u001b[0msympy\u001b[0m\u001b[1;33m.\u001b[0m\u001b[0mtensor\u001b[0m\u001b[1;33m.\u001b[0m\u001b[0marray\u001b[0m\u001b[1;33m.\u001b[0m\u001b[0marray_derivatives\u001b[0m \u001b[1;32mimport\u001b[0m \u001b[0mArrayDerivative\u001b[0m\u001b[1;33m\u001b[0m\u001b[1;33m\u001b[0m\u001b[0m\n\u001b[0;32m   1946\u001b[0m         \u001b[1;32mreturn\u001b[0m \u001b[0mArrayDerivative\u001b[0m\u001b[1;33m(\u001b[0m\u001b[0mexpr\u001b[0m\u001b[1;33m,\u001b[0m \u001b[1;33m*\u001b[0m\u001b[0mvariables\u001b[0m\u001b[1;33m,\u001b[0m \u001b[1;33m**\u001b[0m\u001b[0mkwargs\u001b[0m\u001b[1;33m)\u001b[0m\u001b[1;33m\u001b[0m\u001b[1;33m\u001b[0m\u001b[0m\n\u001b[1;32m-> 1947\u001b[1;33m     \u001b[1;32mreturn\u001b[0m \u001b[0mDerivative\u001b[0m\u001b[1;33m(\u001b[0m\u001b[0mexpr\u001b[0m\u001b[1;33m,\u001b[0m \u001b[1;33m*\u001b[0m\u001b[0mvariables\u001b[0m\u001b[1;33m,\u001b[0m \u001b[1;33m**\u001b[0m\u001b[0mkwargs\u001b[0m\u001b[1;33m)\u001b[0m\u001b[1;33m\u001b[0m\u001b[1;33m\u001b[0m\u001b[0m\n\u001b[0m\u001b[0;32m   1948\u001b[0m \u001b[1;33m\u001b[0m\u001b[0m\n\u001b[0;32m   1949\u001b[0m \u001b[1;33m\u001b[0m\u001b[0m\n",
      "\u001b[1;32mF:\\Anaconda\\lib\\site-packages\\sympy\\core\\function.py\u001b[0m in \u001b[0;36m__new__\u001b[1;34m(cls, expr, *variables, **kwargs)\u001b[0m\n\u001b[0;32m   1270\u001b[0m         \u001b[1;32mfrom\u001b[0m \u001b[0msympy\u001b[0m\u001b[1;33m.\u001b[0m\u001b[0mmatrices\u001b[0m\u001b[1;33m.\u001b[0m\u001b[0mcommon\u001b[0m \u001b[1;32mimport\u001b[0m \u001b[0mMatrixCommon\u001b[0m\u001b[1;33m\u001b[0m\u001b[1;33m\u001b[0m\u001b[0m\n\u001b[0;32m   1271\u001b[0m         \u001b[1;32mfrom\u001b[0m \u001b[0msympy\u001b[0m \u001b[1;32mimport\u001b[0m \u001b[0mInteger\u001b[0m\u001b[1;33m,\u001b[0m \u001b[0mMatrixExpr\u001b[0m\u001b[1;33m\u001b[0m\u001b[1;33m\u001b[0m\u001b[0m\n\u001b[1;32m-> 1272\u001b[1;33m         \u001b[1;32mfrom\u001b[0m \u001b[0msympy\u001b[0m\u001b[1;33m.\u001b[0m\u001b[0mtensor\u001b[0m\u001b[1;33m.\u001b[0m\u001b[0marray\u001b[0m \u001b[1;32mimport\u001b[0m \u001b[0mArray\u001b[0m\u001b[1;33m,\u001b[0m \u001b[0mNDimArray\u001b[0m\u001b[1;33m\u001b[0m\u001b[1;33m\u001b[0m\u001b[0m\n\u001b[0m\u001b[0;32m   1273\u001b[0m         \u001b[1;32mfrom\u001b[0m \u001b[0msympy\u001b[0m\u001b[1;33m.\u001b[0m\u001b[0mutilities\u001b[0m\u001b[1;33m.\u001b[0m\u001b[0mmisc\u001b[0m \u001b[1;32mimport\u001b[0m \u001b[0mfilldedent\u001b[0m\u001b[1;33m\u001b[0m\u001b[1;33m\u001b[0m\u001b[0m\n\u001b[0;32m   1274\u001b[0m \u001b[1;33m\u001b[0m\u001b[0m\n",
      "\u001b[1;32mF:\\Anaconda\\lib\\importlib\\_bootstrap.py\u001b[0m in \u001b[0;36m_handle_fromlist\u001b[1;34m(module, fromlist, import_, recursive)\u001b[0m\n",
      "\u001b[1;31mKeyboardInterrupt\u001b[0m: "
     ]
    }
   ],
   "source": [
    "sol= solve((ui.diff(i),uj.diff(j),uk.diff(k)),i,j,k)\n",
    "sol"
   ]
  },
  {
   "cell_type": "markdown",
   "id": "b826ce3a",
   "metadata": {},
   "source": [
    "We failed to solve/express the N.E amount of land $L_i^\\ast, L_j^\\ast, L_k^\\ast$."
   ]
  },
  {
   "cell_type": "markdown",
   "id": "07eca637",
   "metadata": {},
   "source": [
    "Therefore, we have settled for such expression:\n",
    "\\begin{align}\n",
    "L_i^\\ast&=\\frac{0.25((p+cN)(Ab)^3-(1.5-0.5(Ab L_i)^\\frac{1}{2})((Ab L_j)^\\frac{1}{2}+(Ab L_k)^\\frac{1}{2})}{((Ab)^3 L_i^\\ast L_j^\\ast L_k^\\ast)^\\frac{1}{2}}\\\\\n",
    "L_j^\\ast&=\\frac{0.25((p+cN)(Ab)^3-0.5((Ab L_i^\\ast)^\\frac{1}{2}((Ab L_j^\\ast)^\\frac{1}{2}-3(Ab L_k^\\ast)^\\frac{1}{2})+(Ab L_j^\\ast)^\\frac{1}{2}(Ab L_k^\\ast)^\\frac{1}{2}))}{((Ab)^3 L_i^\\ast L_j^\\ast L_k^\\ast)^\\frac{1}{2}}\\\\\n",
    "L_k^\\ast&=\\frac{0.25((p+cN)(Ab)^3+1.5(((Ab L_i^\\ast)^\\frac{1}{2})((Ab L_j^\\ast)^\\frac{1}{2}-\\frac{(Ab L_k^\\ast)^\\frac{1}{2}}{3})-\\frac{Ab L_j^\\ast)^\\frac{1}{2}(Ab L_k^\\ast)^\\frac{1}{2}}{3}))}{((Ab)^3 L_i^\\ast L_j^\\ast L_k^\\ast)^\\frac{1}{2}}\n",
    "\\end{align}"
   ]
  },
  {
   "cell_type": "markdown",
   "id": "2083ad9e",
   "metadata": {},
   "source": [
    "## Discussion"
   ]
  },
  {
   "cell_type": "markdown",
   "id": "3dea4d7b",
   "metadata": {},
   "source": [
    "From the analysis above, we have some pretty interesting results.\n",
    "\n",
    "When $\\alpha+\\beta=1,$ we have N.E. quantity of $L^\\ast=\\frac{Ab+P+cN}{4}=\\frac{(\\frac{k}{\\alpha})^\\alpha(\\frac{l}{\\beta})^\\beta b+P+cN}{4}.$ From the expression of our optimal amount of land, we can see that as population increases, the N.E. amount of land states want to acquire increases. Moreover, as their comprehensive national power $N$ increases, the optimal amount of land they could acquire also increases.Additional, the simplified factor $A$ times effect parameter $b$ also plays an important role in deciding the optimal amount of land. As $Ab$ increases, the optimal land they could accquire also increases. Take a further look at the factor $A$, we can see that it is mainly composed of $\\alpha, \\beta, k, l$. As $k,l$ increases, the optimal amount of land states would accquire decreases.\n",
    "\n",
    "When $\\alpha+\\beta=0.5,$ we have solved the N.E. amount of $L^\\ast=\\frac{-cN-P}{2Ab-4}=\\frac{-cN-P}{(\\frac{k}{\\alpha})^{2\\alpha}(\\frac{l}{\\beta})^{2\\beta}b-4},$ which yields interestingly different results. As population increases, the N.E amount of land state would acquire decreases. Same thing happens to the product of $c,N$, as their national power increases, the state will still decreases the amount of land they acquire through war. In the denominator, we can obeserve that as $k,l,b$ increases, the state still chose to decrease the amount of land they acquire.\n",
    "\n",
    "When $\\alpha+\\beta=2,$ we failed to express the N.E.amount of lands under Cournot competition by only using exogenous variables in the model. The alternative expressions we settled for are entangled and really complicated to do further analysis.\n",
    "\n",
    "What is the intuition behind our results here?\n",
    "Overall, we can see that $\\alpha$ and $\\beta$ plays crucial role in determining the strategies of state in a Cournot game setting. Realistically speaking, the output elasticity of military forces assigned and economic resources they put in the war are essential in the strategic decision of waging a war against other warring states. When the states are in a constant return from a war, it's normal for the leaders to think about expand one's territory and explot more resources as the population, national strength, and even the consumptions of resources from military and economic activities increases. However, if the war turns into a diseconomies of scale, leaders are likely to think over. There are mutiple possibilities for a war to be \"diseconomy\". In a long period of battle, the more troops and logisitical support you put in don't necessary result in equivalent return in terms of general resources.\n",
    "\n",
    "Besides, Our analysis also explore the cost problems in waging a war. The results also heavily depend on the output elasticity of military and economic inputs.As the war goes on and the troops accquire more lands, the total spending generally increases. The only difference is marginal spending. In the constant return period, marginal spending is always constant; In the diseconomic period, marginal spending is increasing over time; in the economic period, the marginal spending keeps decreasing. The results of cost minimization corresponds to the decision in th Cournot Nash Equilibrium to a large extent. "
   ]
  },
  {
   "cell_type": "markdown",
   "id": "5e503b6c",
   "metadata": {},
   "source": [
    "## Conclusion/Limitation"
   ]
  },
  {
   "cell_type": "markdown",
   "id": "c8770379",
   "metadata": {},
   "source": [
    "In this project, we explore the strategies of warring states through two stages: cost/spending minimization and resource maximization in Cournot competition. By applying economic and mathematical tools, we find out that the output elasticities in the war are predominantly affects the state's strategy in decision-making which helps us better understand how economic thinking is applying to the mechanism of a war. Nonetheless, our model suffers from several limitations. First, our model fail to analyze the scenario when states are in economies of scale. So we can't see the whole picture of the strategies planning and decision making when missing one important scenario. Second, our model is just an over-simplied version of the warring state period, some variables are not clearly identified and potential factors might be omitted from our model. Also,the assumptions of states having the identical cost function, acquiring and demanding homogeneous resources are unrealistic to some extent. In the real-world setting, states are more likely to have various choices of resources and different cost functions depend on specific implementations. Last, there are more interdependences among the warring states. The land they try to occupy are actually from others territories. So simultaneous gains also imply the simultaneous losses which we didn't included in our study. Thus, it's important to develop further studies and models in understading the state strategies in the warring period."
   ]
  }
 ],
 "metadata": {
  "kernelspec": {
   "display_name": "Python 3",
   "language": "python",
   "name": "python3"
  },
  "language_info": {
   "codemirror_mode": {
    "name": "ipython",
    "version": 3
   },
   "file_extension": ".py",
   "mimetype": "text/x-python",
   "name": "python",
   "nbconvert_exporter": "python",
   "pygments_lexer": "ipython3",
   "version": "3.8.8"
  }
 },
 "nbformat": 4,
 "nbformat_minor": 5
}
